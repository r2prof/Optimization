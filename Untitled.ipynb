{
 "cells": [
  {
   "cell_type": "markdown",
   "id": "a0d033fe",
   "metadata": {},
   "source": [
    "\\documentclass{article}\n",
    "\\usepackage{amsmath}\n",
    "\n",
    "\\begin{document}\n",
    "\t\n",
    "\t\\section*{Mathematical Model for Multi-Commodity Flow Problem}\n",
    "\t\n",
    "\t\\subsection*{Sets}\n",
    "\t\\begin{align*}\n",
    "\t\t& H = \\{ \\text{Pencils}, \\text{Pens} \\} \\\\\n",
    "\t\t& N = \\{ \\text{Detroit}, \\text{Denver}, \\text{Boston}, \\text{New York}, \\text{Seattle} \\} \\\\\n",
    "\t\t& A = \\{ (i, j) \\mid i, j \\in N, i \\neq j \\}\n",
    "\t\\end{align*}\n",
    "\t\n",
    "\t\\subsection*{Parameters}\n",
    "\t\\begin{align*}\n",
    "\t\t& \\text{Capacity: } \\text{capacity}_{i,j} \\text{ represents the maximum flow that can pass through arc } (i, j) \\\\\n",
    "\t\t& \\text{Cost: } \\text{cost}_{h,i,j} \\text{ is the cost of transporting commodity } h \\text{ from node } i \\text{ to node } j \\\\\n",
    "\t\t& \\text{Inflow: } \\text{inflow}_{h,i} \\text{ is the supply (if positive) or demand (if negative) of commodity } h \\text{ at node } i\n",
    "\t\\end{align*}\n",
    "\t\n",
    "\t\\subsection*{Decision Variables}\n",
    "\t\\begin{align*}\n",
    "\t\t& \\text{Flow: } \\text{flow}_{h,i,j} \\text{ represents the flow of commodity } h \\text{ from node } i \\text{ to node } j\n",
    "\t\\end{align*}\n",
    "\t\n",
    "\t\\subsection*{Objective Function}\n",
    "\tMinimize the total transportation cost:\n",
    "\t\\begin{align*}\n",
    "\t\t\\min & \\sum_{h \\in H} \\sum_{(i,j) \\in A} \\text{cost}_{h,i,j} \\cdot \\text{flow}_{h,i,j}\n",
    "\t\\end{align*}\n",
    "\t\n",
    "\t\\subsection*{Constraints}\n",
    "\t\\begin{align*}\n",
    "\t\t& \\text{Capacity Constraints:} \\\\\n",
    "\t\t& \\text{Flow Conservation Constraints:}\n",
    "\t\\end{align*}\n",
    "\t\n",
    "\t1. Capacity Constraints:\n",
    "\t\\begin{align*}\n",
    "\t\t& \\text{flow}_{h,i,j} \\leq \\text{capacity}_{i,j} \\quad \\forall h \\in H, \\forall (i,j) \\in A\n",
    "\t\\end{align*}\n",
    "\t\n",
    "\t2. Flow Conservation Constraints:\n",
    "\t\\begin{align*}\n",
    "\t\t& \\sum_{i \\in N} \\text{flow}_{h,i,j} + \\text{inflow}_{h,j} = \\sum_{k \\in N} \\text{flow}_{h,j,k} \\quad \\forall h \\in H, \\forall j \\in N\n",
    "\t\\end{align*}\n",
    "\t\n",
    "\\end{document}\n"
   ]
  },
  {
   "cell_type": "markdown",
   "id": "62892ac2",
   "metadata": {},
   "source": []
  },
  {
   "cell_type": "markdown",
   "id": "b174feef",
   "metadata": {},
   "source": [
    "### Mathematical Model for Multi-Commodity Flow Problem"
   ]
  },
  {
   "cell_type": "markdown",
   "id": "9da4b541",
   "metadata": {},
   "source": [
    "#### Sets"
   ]
  },
  {
   "cell_type": "markdown",
   "id": "a835693a",
   "metadata": {},
   "source": [
    "\n",
    "\\begin{equation}\n",
    "\t\t& H = \\{ \\text{Pencils}, \\text{Pens} \\} \\\\\n",
    "\t\t& N = \\{ \\text{Detroit}, \\text{Denver}, \\text{Boston}, \\text{New York}, \\text{Seattle} \\} \\\\\n",
    "\t\t& A = \\{ (i, j) \\mid i, j \\in N, i \\neq j \\}\n",
    "\\end{equation}\n"
   ]
  },
  {
   "cell_type": "code",
   "execution_count": null,
   "id": "9cb2dfe6",
   "metadata": {},
   "outputs": [],
   "source": []
  }
 ],
 "metadata": {
  "kernelspec": {
   "display_name": "Python 3 (ipykernel)",
   "language": "python",
   "name": "python3"
  },
  "language_info": {
   "codemirror_mode": {
    "name": "ipython",
    "version": 3
   },
   "file_extension": ".py",
   "mimetype": "text/x-python",
   "name": "python",
   "nbconvert_exporter": "python",
   "pygments_lexer": "ipython3",
   "version": "3.12.3"
  }
 },
 "nbformat": 4,
 "nbformat_minor": 5
}
