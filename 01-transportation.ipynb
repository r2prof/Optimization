{
 "cells": [
  {
   "cell_type": "code",
   "execution_count": 1,
   "id": "8804621c-8a41-4b5e-bea2-21fa6e8e5db4",
   "metadata": {},
   "outputs": [],
   "source": [
    "# %pip install gurobipy\n",
    "\n",
    "# First, import packages\n",
    "import pandas as pd\n",
    "import gurobipy as gp\n",
    "from gurobipy import GRB"
   ]
  },
  {
   "cell_type": "code",
   "execution_count": null,
   "id": "087edc96-0f4c-4808-8cce-518f0d56bd9e",
   "metadata": {},
   "outputs": [],
   "source": [
    "# Sets P and D, respectively\n",
    "# When we code sets we can be more descriptive in the name\n",
    "production = ['Baltimore','Cleveland','Little Rock','Birmingham','Charleston']\n",
    "distribution = ['Columbia','Indianapolis','Lexington','Nashville','Richmond','St. Louis']\n",
    "\n"
   ]
  },
  {
   "cell_type": "code",
   "execution_count": null,
   "id": "ba0f0145-de05-4046-9c4e-45fb36bef1ca",
   "metadata": {},
   "outputs": [],
   "source": [
    "# Define a gurobipy model for the decision problem\n",
    "m = gp.Model('widgets')"
   ]
  },
  {
   "cell_type": "code",
   "execution_count": 5,
   "id": "d68aecff-523e-46af-be58-19753f9cd9f9",
   "metadata": {},
   "outputs": [],
   "source": [
    "path = 'https://raw.githubusercontent.com/Gurobi/modeling-examples/master/optimization101/Modeling_Session_1/'"
   ]
  },
  {
   "cell_type": "code",
   "execution_count": 12,
   "id": "a0914c40-b4d6-4385-a058-271fc65bb33d",
   "metadata": {},
   "outputs": [],
   "source": [
    "data = pd.read_csv(path + 'cost.csv', index_col=[0,1])"
   ]
  },
  {
   "cell_type": "code",
   "execution_count": 13,
   "id": "7d62c442-05c8-4c2d-b8a6-3755e89b12c4",
   "metadata": {},
   "outputs": [],
   "source": [
    "transp_cost = data.squeeze()"
   ]
  },
  {
   "cell_type": "code",
   "execution_count": 14,
   "id": "3e7647fa-1825-4a22-9199-bf69a3b36518",
   "metadata": {},
   "outputs": [
    {
     "data": {
      "text/plain": [
       "production   distribution\n",
       "Baltimore    Columbia        4.50\n",
       "             Indianapolis    5.09\n",
       "             Lexington       4.33\n",
       "             Nashville       5.96\n",
       "             Richmond        1.96\n",
       "             St. Louis       7.30\n",
       "Cleveland    Columbia        2.43\n",
       "             Indianapolis    2.37\n",
       "             Lexington       2.54\n",
       "             Nashville       4.13\n",
       "             Richmond        3.20\n",
       "             St. Louis       4.88\n",
       "Little Rock  Columbia        6.42\n",
       "             Indianapolis    4.83\n",
       "             Lexington       3.39\n",
       "             Nashville       4.40\n",
       "             Richmond        7.44\n",
       "             St. Louis       2.92\n",
       "Birmingham   Columbia        3.33\n",
       "             Indianapolis    4.33\n",
       "             Lexington       3.38\n",
       "             Nashville       1.53\n",
       "             Richmond        5.95\n",
       "             St. Louis       4.01\n",
       "Charleston   Columbia        3.02\n",
       "             Indianapolis    2.61\n",
       "             Lexington       1.61\n",
       "             Nashville       4.44\n",
       "             Richmond        2.36\n",
       "             St. Louis       4.60\n",
       "Name: cost, dtype: float64"
      ]
     },
     "execution_count": 14,
     "metadata": {},
     "output_type": "execute_result"
    }
   ],
   "source": [
    "transp_cost"
   ]
  },
  {
   "cell_type": "code",
   "execution_count": 15,
   "id": "ef1997b1-7944-4f62-b878-5ba6a0ed2238",
   "metadata": {},
   "outputs": [
    {
     "data": {
      "text/html": [
       "<div>\n",
       "<style scoped>\n",
       "    .dataframe tbody tr th:only-of-type {\n",
       "        vertical-align: middle;\n",
       "    }\n",
       "\n",
       "    .dataframe tbody tr th {\n",
       "        vertical-align: top;\n",
       "    }\n",
       "\n",
       "    .dataframe thead th {\n",
       "        text-align: right;\n",
       "    }\n",
       "</style>\n",
       "<table border=\"1\" class=\"dataframe\">\n",
       "  <thead>\n",
       "    <tr style=\"text-align: right;\">\n",
       "      <th>distribution</th>\n",
       "      <th>Columbia</th>\n",
       "      <th>Indianapolis</th>\n",
       "      <th>Lexington</th>\n",
       "      <th>Nashville</th>\n",
       "      <th>Richmond</th>\n",
       "      <th>St. Louis</th>\n",
       "    </tr>\n",
       "    <tr>\n",
       "      <th>production</th>\n",
       "      <th></th>\n",
       "      <th></th>\n",
       "      <th></th>\n",
       "      <th></th>\n",
       "      <th></th>\n",
       "      <th></th>\n",
       "    </tr>\n",
       "  </thead>\n",
       "  <tbody>\n",
       "    <tr>\n",
       "      <th>Baltimore</th>\n",
       "      <td>4.50</td>\n",
       "      <td>5.09</td>\n",
       "      <td>4.33</td>\n",
       "      <td>5.96</td>\n",
       "      <td>1.96</td>\n",
       "      <td>7.30</td>\n",
       "    </tr>\n",
       "    <tr>\n",
       "      <th>Birmingham</th>\n",
       "      <td>3.33</td>\n",
       "      <td>4.33</td>\n",
       "      <td>3.38</td>\n",
       "      <td>1.53</td>\n",
       "      <td>5.95</td>\n",
       "      <td>4.01</td>\n",
       "    </tr>\n",
       "    <tr>\n",
       "      <th>Charleston</th>\n",
       "      <td>3.02</td>\n",
       "      <td>2.61</td>\n",
       "      <td>1.61</td>\n",
       "      <td>4.44</td>\n",
       "      <td>2.36</td>\n",
       "      <td>4.60</td>\n",
       "    </tr>\n",
       "    <tr>\n",
       "      <th>Cleveland</th>\n",
       "      <td>2.43</td>\n",
       "      <td>2.37</td>\n",
       "      <td>2.54</td>\n",
       "      <td>4.13</td>\n",
       "      <td>3.20</td>\n",
       "      <td>4.88</td>\n",
       "    </tr>\n",
       "    <tr>\n",
       "      <th>Little Rock</th>\n",
       "      <td>6.42</td>\n",
       "      <td>4.83</td>\n",
       "      <td>3.39</td>\n",
       "      <td>4.40</td>\n",
       "      <td>7.44</td>\n",
       "      <td>2.92</td>\n",
       "    </tr>\n",
       "  </tbody>\n",
       "</table>\n",
       "</div>"
      ],
      "text/plain": [
       "distribution  Columbia  Indianapolis  Lexington  Nashville  Richmond  \\\n",
       "production                                                             \n",
       "Baltimore         4.50          5.09       4.33       5.96      1.96   \n",
       "Birmingham        3.33          4.33       3.38       1.53      5.95   \n",
       "Charleston        3.02          2.61       1.61       4.44      2.36   \n",
       "Cleveland         2.43          2.37       2.54       4.13      3.20   \n",
       "Little Rock       6.42          4.83       3.39       4.40      7.44   \n",
       "\n",
       "distribution  St. Louis  \n",
       "production               \n",
       "Baltimore          7.30  \n",
       "Birmingham         4.01  \n",
       "Charleston         4.60  \n",
       "Cleveland          4.88  \n",
       "Little Rock        2.92  "
      ]
     },
     "execution_count": 15,
     "metadata": {},
     "output_type": "execute_result"
    }
   ],
   "source": [
    "transp_cost.reset_index().pivot(index='production', columns='distribution', values='cost')"
   ]
  },
  {
   "cell_type": "code",
   "execution_count": null,
   "id": "734bd107-928b-4c78-9e3b-a42b2e99be6b",
   "metadata": {},
   "outputs": [],
   "source": [
    "max_prod = pd.Series([180,200,140,80,180], index = production, name = \"max_production\")\n",
    "n_demand = pd.Series([89,95,121,101,116,181], index = distribution, name = \"demand\") \n",
    "max_prod.to_frame()\n",
    "#n_demand.to_frame()"
   ]
  },
  {
   "cell_type": "code",
   "execution_count": null,
   "id": "f5ad763d-b30d-4c17-b2a4-4cd1d04969a4",
   "metadata": {},
   "outputs": [],
   "source": [
    "frac = 0.75"
   ]
  },
  {
   "cell_type": "code",
   "execution_count": null,
   "id": "5282ac46-98de-47de-8c44-c71d4cd2c3e2",
   "metadata": {},
   "outputs": [],
   "source": [
    "# loop through each p and d combination to create a decision variable\n",
    "m = gp.Model('widgets')\n",
    "x = {}\n",
    "for p in production:\n",
    "    for d in distribution:\n",
    "        x[p,d] = m.addVar(name = p+\"_to_\"+d)\n",
    "m.update()\n",
    "x"
   ]
  },
  {
   "cell_type": "code",
   "execution_count": null,
   "id": "cb550dcc-e0ab-4eac-a880-b05cda580179",
   "metadata": {},
   "outputs": [],
   "source": [
    "# Provide each set for the indices \n",
    "m = gp.Model('widgets')\n",
    "x = m.addVars(production, distribution, name = 'prod_ship')\n",
    "m.update()\n",
    "x"
   ]
  },
  {
   "cell_type": "code",
   "execution_count": null,
   "id": "d18d570d-02d1-4c0b-a5a1-a53d006281b2",
   "metadata": {},
   "outputs": [],
   "source": [
    "# The index of the tranporation costs have each combination of prodiction and distribution location\n",
    "m = gp.Model('widgets')\n",
    "x = m.addVars(transp_cost.index, name = 'prod_ship')\n",
    "m.update()\n",
    "x"
   ]
  },
  {
   "cell_type": "code",
   "execution_count": null,
   "id": "7425a66d-2b34-4a96-a103-6a8732fd80ae",
   "metadata": {},
   "outputs": [],
   "source": [
    "meet_demand = m.addConstrs((gp.quicksum(x[p,d] for p in production) >= n_demand[d] for d in distribution), name = 'meet_demand')\n",
    "#meet_demand = m.addConstrs(x.sum('*', j) >= demand[j] for j in distribution)\n",
    "m.update()\n",
    "meet_demand"
   ]
  },
  {
   "cell_type": "code",
   "execution_count": null,
   "id": "bbe7f276-d321-4937-a0f3-05bc6743b1c9",
   "metadata": {},
   "outputs": [],
   "source": [
    "can_produce = m.addConstrs((gp.quicksum(x[p,d] for d in distribution) <= max_prod[p] for p in production), name = 'can_produce')# (x.sum(i, '*')\n",
    "must_produce = m.addConstrs((gp.quicksum(x[p,d] for d in distribution) >= frac*max_prod[p] for p in production), name = 'must_produce')\n",
    "m.update()\n",
    "can_produce"
   ]
  },
  {
   "cell_type": "code",
   "execution_count": null,
   "id": "b13d5682-4af0-414f-90bf-52f14de22149",
   "metadata": {},
   "outputs": [],
   "source": [
    "m.setObjective(gp.quicksum(transp_cost[i,j]*x[i,j] for i in production for j in distribution), GRB.MINIMIZE) "
   ]
  },
  {
   "cell_type": "code",
   "execution_count": null,
   "id": "1242320b-829f-4216-b346-c08f3fff66e9",
   "metadata": {},
   "outputs": [],
   "source": [
    "m.write('widget_shipment.lp')"
   ]
  },
  {
   "cell_type": "code",
   "execution_count": null,
   "id": "d819ef43-6214-441d-a98b-0f08697fce80",
   "metadata": {},
   "outputs": [],
   "source": [
    "m.optimize()"
   ]
  },
  {
   "cell_type": "code",
   "execution_count": null,
   "id": "08d86c0a-3c1b-434e-bf31-6b9b28c97f87",
   "metadata": {},
   "outputs": [],
   "source": [
    "x_values = pd.Series(m.getAttr('X', x), name = \"shipment\", index = transp_cost.index)\n",
    "sol = pd.concat([transp_cost, x_values], axis=1)\n",
    "#sol \n",
    "sol[sol.shipment > 0]"
   ]
  },
  {
   "cell_type": "code",
   "execution_count": null,
   "id": "9e0fd49e-1179-41ac-ae1e-8ec386c071ec",
   "metadata": {},
   "outputs": [],
   "source": [
    "# You can get the name and value of all the decision variables:\n",
    "all_vars = {v.varName: v.x for v in m.getVars()} \n",
    "all_vars"
   ]
  },
  {
   "cell_type": "code",
   "execution_count": null,
   "id": "119f086f-1495-4d4f-82dc-10e3ff7db328",
   "metadata": {},
   "outputs": [],
   "source": [
    "xvals = {k: v.x for k,v in x.items() if v.x > 0} \n",
    "xvals "
   ]
  },
  {
   "cell_type": "code",
   "execution_count": null,
   "id": "4f8250c0-dba2-4d80-ba46-e4d04c770437",
   "metadata": {},
   "outputs": [],
   "source": [
    "x_values.sum(), n_demand.sum()"
   ]
  },
  {
   "cell_type": "code",
   "execution_count": null,
   "id": "10faf631-8a49-4729-92b3-a82c9fd77513",
   "metadata": {},
   "outputs": [],
   "source": [
    "# Sum the shipment amount by production facility\n",
    "ship_out = sol.groupby('production')['shipment'].sum()\n",
    "pd.DataFrame({'Remaining':max_prod - ship_out, 'Utilization':ship_out/max_prod})"
   ]
  },
  {
   "cell_type": "code",
   "execution_count": null,
   "id": "723f7095-787a-4eff-820a-17cd149603da",
   "metadata": {},
   "outputs": [],
   "source": [
    "pd.DataFrame({'Remaining':[can_produce[p].Slack for p in production], \n",
    "              'Utilization':[1-can_produce[p].Slack/max_prod[p] for p in production]}, \n",
    "             index = production)"
   ]
  },
  {
   "cell_type": "code",
   "execution_count": null,
   "id": "0fe20b93-8a0b-4448-967c-2968ccf09be8",
   "metadata": {},
   "outputs": [],
   "source": [
    "# We use m2 for the second model\n",
    "# These parts are the same as above outside of the new model name\n",
    "m2 = gp.Model('widgets2')\n",
    "x = m2.addVars(production, distribution, obj = transp_cost, name = 'prod_ship')\n",
    "meet_demand = m2.addConstrs((gp.quicksum(x[p,d] for p in production) >= n_demand[d] for d in distribution), name = 'meet_demand')"
   ]
  },
  {
   "cell_type": "code",
   "execution_count": null,
   "id": "9d1170b6-5e61-4c92-bb42-09fa8d5efc47",
   "metadata": {},
   "outputs": [],
   "source": [
    "can_produce = m2.addConstrs((gp.quicksum(x[p,d] for d in distribution) <= max_prod[p] for p in production if p != 'Birmingham'), name = 'can_produce')\n",
    "must_produce =  m2.addConstrs((gp.quicksum(x[p,d] for d in distribution) >= frac*max_prod[p] for p in production if p != 'Birmingham'), name = 'must_produce')"
   ]
  },
  {
   "cell_type": "code",
   "execution_count": null,
   "id": "e7bf3a1e-71d5-4137-9362-7f2cca267bb4",
   "metadata": {},
   "outputs": [],
   "source": [
    "xprod = m2.addVars(range(2), vtype = GRB.BINARY, obj = [50, 75], name = 'expand_Birmingham_prod')"
   ]
  },
  {
   "cell_type": "code",
   "execution_count": null,
   "id": "8e3e861f-ae93-4715-88f7-ff3a3b62a831",
   "metadata": {},
   "outputs": [],
   "source": [
    "Birmingham_max = m2.addConstr(gp.quicksum(x['Birmingham',d] for d in distribution) <= max_prod['Birmingham'] + 25*xprod[0] + 50*xprod[1], name = 'Birmingham_add_max')\n",
    "Birmingham_min = m2.addConstr(gp.quicksum(x['Birmingham',d] for d in distribution) >= frac*(max_prod['Birmingham'] + 25*xprod[0] + 50*xprod[1]), name = 'Birmingham_add_min')"
   ]
  },
  {
   "cell_type": "code",
   "execution_count": null,
   "id": "d43ad5fe-4186-47ad-b34a-81d1640ee098",
   "metadata": {},
   "outputs": [],
   "source": [
    "Birmingham_lim = m2.addConstr(gp.quicksum(xprod[i] for i in range(2)) <= 1, name = 'expansion_choice')"
   ]
  },
  {
   "cell_type": "code",
   "execution_count": null,
   "id": "972f94d8-63b3-442e-bd93-601965234832",
   "metadata": {},
   "outputs": [],
   "source": [
    "m2.optimize()"
   ]
  },
  {
   "cell_type": "code",
   "execution_count": null,
   "id": "fadc339f-0164-4ca1-a715-75a95684a617",
   "metadata": {},
   "outputs": [],
   "source": [
    "obj1 = m.getObjective()\n",
    "obj2 = m2.getObjective()\n",
    "print(f\"The original model had a total cost of {round(obj1.getValue(),2)}\")\n",
    "print(f\"The new formualtion has a total cost of {round(obj2.getValue(),2)}\")"
   ]
  },
  {
   "cell_type": "code",
   "execution_count": null,
   "id": "2900f6d6-b9c3-4968-90fc-63efb55a56c9",
   "metadata": {},
   "outputs": [],
   "source": [
    "pd.Series(m2.getAttr('X', xprod))"
   ]
  },
  {
   "cell_type": "code",
   "execution_count": null,
   "id": "c36369b7-db21-4c85-b54b-9ec649f913d4",
   "metadata": {},
   "outputs": [],
   "source": [
    "x2_values = pd.Series(m2.getAttr('X', x), name = \"shipment\", index = transp_cost.index)\n",
    "sol2 = pd.concat([transp_cost, x2_values], axis=1)\n",
    "sol2[sol2.shipment > 0]"
   ]
  },
  {
   "cell_type": "code",
   "execution_count": null,
   "id": "34dd6c48-ae2e-4cee-b74b-1695de0706b6",
   "metadata": {},
   "outputs": [],
   "source": [
    "m.dispose()\n",
    "m2.dispose()\n",
    "gp.disposeDefaultEnv()"
   ]
  },
  {
   "cell_type": "code",
   "execution_count": null,
   "id": "b27b22cf-a306-4221-baff-7f04412a19d4",
   "metadata": {},
   "outputs": [],
   "source": []
  },
  {
   "cell_type": "code",
   "execution_count": null,
   "id": "010dc782-4d8c-4e95-991f-9f02987d56be",
   "metadata": {},
   "outputs": [],
   "source": []
  }
 ],
 "metadata": {
  "kernelspec": {
   "display_name": "Python 3 (ipykernel)",
   "language": "python",
   "name": "python3"
  },
  "language_info": {
   "codemirror_mode": {
    "name": "ipython",
    "version": 3
   },
   "file_extension": ".py",
   "mimetype": "text/x-python",
   "name": "python",
   "nbconvert_exporter": "python",
   "pygments_lexer": "ipython3",
   "version": "3.12.3"
  }
 },
 "nbformat": 4,
 "nbformat_minor": 5
}
