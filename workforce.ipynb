{
 "cells": [
  {
   "cell_type": "markdown",
   "id": "4aa76946",
   "metadata": {},
   "source": [
    "### Problem\n",
    "Assign workers to shifts; each worker may or may not be available on a\n",
    "particular day. If the problem cannot be solved, use IIS to find a set of\n",
    "conflicting constraints. Note that there may be additional conflicts besides\n",
    "what is reported via IIS."
   ]
  },
  {
   "cell_type": "code",
   "execution_count": 2,
   "id": "23ac0c37",
   "metadata": {},
   "outputs": [],
   "source": [
    "# First, import packages\n",
    "import pandas as pd\n",
    "import gurobipy as gp\n",
    "from gurobipy import GRB\n",
    "import sys\n",
    "\n",
    "# Define a gurobipy model for the decision problem\n",
    "m = gp.Model('workforce')"
   ]
  },
  {
   "cell_type": "markdown",
   "id": "6c21f309",
   "metadata": {},
   "source": [
    "### Data"
   ]
  },
  {
   "cell_type": "code",
   "execution_count": 3,
   "id": "c9d889ba",
   "metadata": {},
   "outputs": [],
   "source": [
    "# Number of workers required for each shift\n",
    "shifts, shiftRequirements = gp.multidict(\n",
    "    {\n",
    "        \"Mon1\": 3,\n",
    "        \"Tue2\": 2,\n",
    "        \"Wed3\": 4,\n",
    "        \"Thu4\": 4,\n",
    "        \"Fri5\": 5,\n",
    "        \"Sat6\": 6,\n",
    "        \"Sun7\": 5,\n",
    "        \"Mon8\": 2,\n",
    "        \"Tue9\": 2,\n",
    "        \"Wed10\": 3,\n",
    "        \"Thu11\": 4,\n",
    "        \"Fri12\": 6,\n",
    "        \"Sat13\": 7,\n",
    "        \"Sun14\": 5,\n",
    "    }\n",
    ")"
   ]
  },
  {
   "cell_type": "code",
   "execution_count": 4,
   "id": "26830813",
   "metadata": {},
   "outputs": [],
   "source": [
    "# Amount each worker is paid to work one shift\n",
    "workers, pay = gp.multidict(\n",
    "    {\n",
    "        \"Amy\": 10,\n",
    "        \"Bob\": 12,\n",
    "        \"Cathy\": 10,\n",
    "        \"Dan\": 8,\n",
    "        \"Ed\": 8,\n",
    "        \"Fred\": 9,\n",
    "        \"Gu\": 11,\n",
    "    }\n",
    ")"
   ]
  },
  {
   "cell_type": "code",
   "execution_count": 5,
   "id": "23853743",
   "metadata": {},
   "outputs": [],
   "source": [
    "# Worker availability\n",
    "availability = gp.tuplelist(\n",
    "    [\n",
    "        (\"Amy\", \"Tue2\"),\n",
    "        (\"Amy\", \"Wed3\"),\n",
    "        (\"Amy\", \"Fri5\"),\n",
    "        (\"Amy\", \"Sun7\"),\n",
    "        (\"Amy\", \"Tue9\"),\n",
    "        (\"Amy\", \"Wed10\"),\n",
    "        (\"Amy\", \"Thu11\"),\n",
    "        (\"Amy\", \"Fri12\"),\n",
    "        (\"Amy\", \"Sat13\"),\n",
    "        (\"Amy\", \"Sun14\"),\n",
    "        (\"Bob\", \"Mon1\"),\n",
    "        (\"Bob\", \"Tue2\"),\n",
    "        (\"Bob\", \"Fri5\"),\n",
    "        (\"Bob\", \"Sat6\"),\n",
    "        (\"Bob\", \"Mon8\"),\n",
    "        (\"Bob\", \"Thu11\"),\n",
    "        (\"Bob\", \"Sat13\"),\n",
    "        (\"Cathy\", \"Wed3\"),\n",
    "        (\"Cathy\", \"Thu4\"),\n",
    "        (\"Cathy\", \"Fri5\"),\n",
    "        (\"Cathy\", \"Sun7\"),\n",
    "        (\"Cathy\", \"Mon8\"),\n",
    "        (\"Cathy\", \"Tue9\"),\n",
    "        (\"Cathy\", \"Wed10\"),\n",
    "        (\"Cathy\", \"Thu11\"),\n",
    "        (\"Cathy\", \"Fri12\"),\n",
    "        (\"Cathy\", \"Sat13\"),\n",
    "        (\"Cathy\", \"Sun14\"),\n",
    "        (\"Dan\", \"Tue2\"),\n",
    "        (\"Dan\", \"Wed3\"),\n",
    "        (\"Dan\", \"Fri5\"),\n",
    "        (\"Dan\", \"Sat6\"),\n",
    "        (\"Dan\", \"Mon8\"),\n",
    "        (\"Dan\", \"Tue9\"),\n",
    "        (\"Dan\", \"Wed10\"),\n",
    "        (\"Dan\", \"Thu11\"),\n",
    "        (\"Dan\", \"Fri12\"),\n",
    "        (\"Dan\", \"Sat13\"),\n",
    "        (\"Dan\", \"Sun14\"),\n",
    "        (\"Ed\", \"Mon1\"),\n",
    "        (\"Ed\", \"Tue2\"),\n",
    "        (\"Ed\", \"Wed3\"),\n",
    "        (\"Ed\", \"Thu4\"),\n",
    "        (\"Ed\", \"Fri5\"),\n",
    "        (\"Ed\", \"Sun7\"),\n",
    "        (\"Ed\", \"Mon8\"),\n",
    "        (\"Ed\", \"Tue9\"),\n",
    "        (\"Ed\", \"Thu11\"),\n",
    "        (\"Ed\", \"Sat13\"),\n",
    "        (\"Ed\", \"Sun14\"),\n",
    "        (\"Fred\", \"Mon1\"),\n",
    "        (\"Fred\", \"Tue2\"),\n",
    "        (\"Fred\", \"Wed3\"),\n",
    "        (\"Fred\", \"Sat6\"),\n",
    "        (\"Fred\", \"Mon8\"),\n",
    "        (\"Fred\", \"Tue9\"),\n",
    "        (\"Fred\", \"Fri12\"),\n",
    "        (\"Fred\", \"Sat13\"),\n",
    "        (\"Fred\", \"Sun14\"),\n",
    "        (\"Gu\", \"Mon1\"),\n",
    "        (\"Gu\", \"Tue2\"),\n",
    "        (\"Gu\", \"Wed3\"),\n",
    "        (\"Gu\", \"Fri5\"),\n",
    "        (\"Gu\", \"Sat6\"),\n",
    "        (\"Gu\", \"Sun7\"),\n",
    "        (\"Gu\", \"Mon8\"),\n",
    "        (\"Gu\", \"Tue9\"),\n",
    "        (\"Gu\", \"Wed10\"),\n",
    "        (\"Gu\", \"Thu11\"),\n",
    "        (\"Gu\", \"Fri12\"),\n",
    "        (\"Gu\", \"Sat13\"),\n",
    "        (\"Gu\", \"Sun14\"),\n",
    "    ]\n",
    ")"
   ]
  },
  {
   "cell_type": "code",
   "execution_count": null,
   "id": "78ab369c",
   "metadata": {},
   "outputs": [],
   "source": []
  },
  {
   "cell_type": "markdown",
   "id": "54e8e109",
   "metadata": {},
   "source": [
    "### Decision Variable"
   ]
  },
  {
   "cell_type": "code",
   "execution_count": 6,
   "id": "7ea40f5d",
   "metadata": {},
   "outputs": [],
   "source": [
    "# Assignment variables: x[w,s] == 1 if worker w is assigned to shift s.\n",
    "# Since an assignment model always produces integer solutions, we use\n",
    "# continuous variables and solve as an LP.\n",
    "x = m.addVars(availability, ub=1, name=\"x\")"
   ]
  },
  {
   "cell_type": "code",
   "execution_count": null,
   "id": "97b60524",
   "metadata": {},
   "outputs": [],
   "source": []
  },
  {
   "cell_type": "markdown",
   "id": "dad42627",
   "metadata": {},
   "source": [
    "### Constraints"
   ]
  },
  {
   "cell_type": "code",
   "execution_count": 7,
   "id": "381a46c6",
   "metadata": {},
   "outputs": [],
   "source": [
    "# Constraints: assign exactly shiftRequirements[s] workers to each shift s\n",
    "reqCts = m.addConstrs((x.sum(\"*\", s) == shiftRequirements[s] for s in shifts), \"_\")\n",
    "\n",
    "# Using Python looping constructs, the preceding statement would be...\n",
    "#\n",
    "# reqCts = {}\n",
    "# for s in shifts:\n",
    "#   reqCts[s] = m.addConstr(\n",
    "#        gp.quicksum(x[w,s] for w,s in availability.select('*', s)) ==\n",
    "#        shiftRequirements[s], s)\n"
   ]
  },
  {
   "cell_type": "code",
   "execution_count": null,
   "id": "8c085536",
   "metadata": {},
   "outputs": [],
   "source": []
  },
  {
   "cell_type": "code",
   "execution_count": null,
   "id": "4fa4bd1e",
   "metadata": {},
   "outputs": [],
   "source": []
  },
  {
   "cell_type": "code",
   "execution_count": null,
   "id": "f9662c45",
   "metadata": {},
   "outputs": [],
   "source": []
  },
  {
   "cell_type": "markdown",
   "id": "8829468c",
   "metadata": {},
   "source": [
    "### Objective Function"
   ]
  },
  {
   "cell_type": "code",
   "execution_count": 8,
   "id": "abc80dee",
   "metadata": {},
   "outputs": [],
   "source": [
    "# The objective is to minimize the total pay costs\n",
    "m.setObjective(gp.quicksum(pay[w] * x[w, s] for w, s in availability), GRB.MINIMIZE)"
   ]
  },
  {
   "cell_type": "code",
   "execution_count": 9,
   "id": "3a83f28e",
   "metadata": {},
   "outputs": [],
   "source": [
    "\n",
    "# Save model\n",
    "m.write(\"workforce1.lp\")"
   ]
  },
  {
   "cell_type": "markdown",
   "id": "e2379a98",
   "metadata": {},
   "source": [
    "### Solution"
   ]
  },
  {
   "cell_type": "code",
   "execution_count": 10,
   "id": "081e7298",
   "metadata": {},
   "outputs": [
    {
     "name": "stdout",
     "output_type": "stream",
     "text": [
      "Gurobi Optimizer version 11.0.1 build v11.0.1rc0 (linux64 - \"Linux Mint 21.3\")\n",
      "\n",
      "CPU model: AMD Ryzen 5 5600G with Radeon Graphics, instruction set [SSE2|AVX|AVX2]\n",
      "Thread count: 6 physical cores, 12 logical processors, using up to 12 threads\n",
      "\n",
      "Optimize a model with 14 rows, 72 columns and 72 nonzeros\n",
      "Model fingerprint: 0xc4a4a254\n",
      "Coefficient statistics:\n",
      "  Matrix range     [1e+00, 1e+00]\n",
      "  Objective range  [8e+00, 1e+01]\n",
      "  Bounds range     [1e+00, 1e+00]\n",
      "  RHS range        [2e+00, 7e+00]\n",
      "Presolve removed 1 rows and 7 columns\n",
      "Presolve time: 0.00s\n",
      "\n",
      "Solved in 0 iterations and 0.00 seconds (0.00 work units)\n",
      "Infeasible model\n",
      "The model is infeasible; computing IIS\n",
      "Gurobi Optimizer version 11.0.1 build v11.0.1rc0 (linux64 - \"Linux Mint 21.3\")\n",
      "\n",
      "CPU model: AMD Ryzen 5 5600G with Radeon Graphics, instruction set [SSE2|AVX|AVX2]\n",
      "Thread count: 6 physical cores, 12 logical processors, using up to 12 threads\n",
      "\n",
      "\n",
      "IIS computed: 1 constraints and 2 bounds\n",
      "IIS runtime: 0.00 seconds (0.00 work units)\n",
      "IIS is minimal\n",
      "\n",
      "\n",
      "The following constraint(s) cannot be satisfied:\n",
      "Thu4\n"
     ]
    }
   ],
   "source": [
    "# Optimize\n",
    "m.optimize()\n",
    "status = m.Status\n",
    "if status == GRB.UNBOUNDED:\n",
    "    print(\"The model cannot be solved because it is unbounded\")\n",
    "    sys.exit(0)\n",
    "if status == GRB.OPTIMAL:\n",
    "    print(f\"The optimal objective is {m.ObjVal:g}\")\n",
    "    sys.exit(0)\n",
    "if status != GRB.INF_OR_UNBD and status != GRB.INFEASIBLE:\n",
    "    print(f\"Optimization was stopped with status {status}\")\n",
    "    sys.exit(0)\n",
    "\n",
    "# do IIS\n",
    "print(\"The model is infeasible; computing IIS\")\n",
    "m.computeIIS()\n",
    "if m.IISMinimal:\n",
    "    print(\"IIS is minimal\\n\")\n",
    "else:\n",
    "    print(\"IIS is not minimal\\n\")\n",
    "print(\"\\nThe following constraint(s) cannot be satisfied:\")\n",
    "for c in m.getConstrs():\n",
    "    if c.IISConstr:\n",
    "        print(c.ConstrName)\n"
   ]
  },
  {
   "cell_type": "code",
   "execution_count": null,
   "id": "5188a4c6",
   "metadata": {},
   "outputs": [],
   "source": []
  },
  {
   "cell_type": "code",
   "execution_count": null,
   "id": "0ffbc200",
   "metadata": {},
   "outputs": [],
   "source": [
    "#!/usr/bin/env python3.11\n",
    "\n",
    "# Copyright 2024, Gurobi Optimization, LLC\n",
    "\n",
    "\n",
    "\n",
    "import gurobipy as gp\n",
    "from gurobipy import GRB\n",
    "import sys\n",
    "\n",
    "\n",
    "\n",
    "\n",
    "\n",
    "\n",
    "\n",
    "# Model\n",
    "m = gp.Model(\"assignment\")\n",
    "\n",
    "\n",
    "\n",
    "\n",
    "\n",
    "\n"
   ]
  }
 ],
 "metadata": {
  "kernelspec": {
   "display_name": "Python 3 (ipykernel)",
   "language": "python",
   "name": "python3"
  },
  "language_info": {
   "codemirror_mode": {
    "name": "ipython",
    "version": 3
   },
   "file_extension": ".py",
   "mimetype": "text/x-python",
   "name": "python",
   "nbconvert_exporter": "python",
   "pygments_lexer": "ipython3",
   "version": "3.12.3"
  }
 },
 "nbformat": 4,
 "nbformat_minor": 5
}
