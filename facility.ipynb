{
 "cells": [
  {
   "cell_type": "markdown",
   "id": "506eb751",
   "metadata": {},
   "source": [
    "### Problem\n",
    "A company currently ships products from 5 plants to 4 warehouses. The company is considering the option of\n",
    "closing down one or more plants. This would increase distribution cost but perhaps lower overall cost. What\n",
    "plants, if any, should the company close?\n",
    "\n",
    "Based on an example from Frontline Systems: http://www.solver.com/disfacility.htm"
   ]
  },
  {
   "cell_type": "code",
   "execution_count": null,
   "id": "43bda797",
   "metadata": {},
   "outputs": [],
   "source": [
    "# First, import packages\n",
    "import pandas as pd\n",
    "from IPython.display import Image \n",
    "import gurobipy as gp\n",
    "from gurobipy import GRB\n",
    "\n",
    "# Define a gurobipy model for the decision problem\n",
    "m = gp.Model('facility')"
   ]
  },
  {
   "cell_type": "code",
   "execution_count": null,
   "id": "30fb7b62",
   "metadata": {
    "code_folding": []
   },
   "outputs": [],
   "source": [
    "# Table 01: \n",
    "Image(\"facility.png\", width=450, height=350)"
   ]
  },
  {
   "cell_type": "markdown",
   "id": "1e4f53db",
   "metadata": {},
   "source": [
    "### Data"
   ]
  },
  {
   "cell_type": "code",
   "execution_count": null,
   "id": "1815a5bd",
   "metadata": {},
   "outputs": [],
   "source": [
    "# Sets P and W, respectively\n",
    "# When we code sets we can be more descriptive in the name\n",
    "plants = ['P1','P2','P3','P4','P5']\n",
    "warehouses = ['W1','W2','W3','W4']"
   ]
  },
  {
   "cell_type": "code",
   "execution_count": null,
   "id": "aeeb20cb",
   "metadata": {},
   "outputs": [],
   "source": [
    "capacity = pd.Series([20, 22, 17, 19, 18], index = plants, name = \"Plant Capacity\")\n",
    "capacity.to_frame()\n",
    "#capacity"
   ]
  },
  {
   "cell_type": "code",
   "execution_count": null,
   "id": "cdf4f479",
   "metadata": {},
   "outputs": [],
   "source": [
    "demand = pd.Series([15, 18, 14, 20], index = warehouses, name = \"Demand\")\n",
    "demand.to_frame()\n",
    "#demand"
   ]
  },
  {
   "cell_type": "code",
   "execution_count": null,
   "id": "533d6084",
   "metadata": {},
   "outputs": [],
   "source": [
    "# Fixed costs for each plant\n",
    "fixedCosts = pd.Series([12000, 15000, 17000, 13000, 16000], index = plants, name = \"Fixed Cost\")\n",
    "fixedCosts.to_frame()"
   ]
  },
  {
   "cell_type": "code",
   "execution_count": null,
   "id": "2298925d",
   "metadata": {},
   "outputs": [],
   "source": [
    "# Transportation costs per thousand units\n",
    "# Load annual lost interest cost data thorough dictionary command\n",
    "transCosts = {    \n",
    "    ('P1', 'W1'): 4000,\n",
    "    ('P1', 'W2'): 2500,\n",
    "    ('P1', 'W3'): 1200,\n",
    "    ('P1', 'W4'): 2200,\n",
    "    ('P2', 'W1'): 2000,\n",
    "    ('P2', 'W2'): 2600,\n",
    "    ('P2', 'W3'): 1800,\n",
    "    ('P2', 'W4'): 2600, \n",
    "    ('P3', 'W1'): 3000,\n",
    "    ('P3', 'W2'): 3400,\n",
    "    ('P3', 'W3'): 2600,\n",
    "    ('P3', 'W4'): 3100,\n",
    "    ('P4', 'W1'): 2500,\n",
    "    ('P4', 'W2'): 3000,\n",
    "    ('P4', 'W3'): 4100,\n",
    "    ('P4', 'W4'): 3700,\n",
    "    ('P5', 'W1'): 4500,\n",
    "    ('P5', 'W2'): 4000,\n",
    "    ('P5', 'W3'): 3000,\n",
    "    ('P5', 'W4'): 3200\n",
    "}"
   ]
  },
  {
   "cell_type": "markdown",
   "id": "1809a709",
   "metadata": {},
   "source": [
    "### Decision Variable"
   ]
  },
  {
   "cell_type": "code",
   "execution_count": null,
   "id": "2a3e3b86",
   "metadata": {},
   "outputs": [],
   "source": [
    "# Plant open decision variables: open[p] == 1 if plant p is open.\n",
    "open = m.addVars(plants, vtype=GRB.BINARY, name=\"open\")\n",
    "m.update()\n",
    "open\n",
    "\n",
    "# Method-01: \n",
    "# open = m.addVars(plants, vtype=GRB.BINARY, obj=fixedCosts, name=\"open\")\n",
    "\n",
    "# Method-02:\n",
    "# open = []\n",
    "# for p in plants:\n",
    "#    open.append(m.addVar(vtype=GRB.BINARY, obj=fixedCosts[p], name=\"open[%d]\" % p))\n",
    "# m.update()\n",
    "# open"
   ]
  },
  {
   "cell_type": "code",
   "execution_count": null,
   "id": "0199c31a",
   "metadata": {},
   "outputs": [],
   "source": [
    "# Transportation decision variables: transport[w,p] captures the\n",
    "# optimal quantity to transport to warehouse w from plant p\n",
    "transport = m.addVars(plants, warehouses, vtype=GRB.CONTINUOUS, name=\"transport\")\n",
    "m.update()\n",
    "transport\n",
    "\n",
    "# Method-01\n",
    "# transport = m.addVars(warehouses, plants, obj=transCosts, name=\"trans\")\n",
    "\n",
    "# Method-02\n",
    "# transport = []\n",
    "# for w in warehouses:\n",
    "#     transport.append([])\n",
    "#     for p in plants:\n",
    "#         transport[w].append(m.addVar(obj=transCosts[w][p],\n",
    "#                                      name=\"trans[%d,%d]\" % (w, p)))"
   ]
  },
  {
   "cell_type": "markdown",
   "id": "1a16a757",
   "metadata": {},
   "source": [
    "### Constraints "
   ]
  },
  {
   "cell_type": "code",
   "execution_count": null,
   "id": "fba79639",
   "metadata": {},
   "outputs": [],
   "source": [
    "# Capacity/Production constraints\n",
    "# Note that the right-hand limit sets the production to zero if the plant is closed\n",
    "#c1 = m.addConstrs((transport.sum(\"*\", p) <= capacity[p] * open[p] for p in plants), name = \"Capacity\")\n",
    "#m.update()\n",
    "#c1\n",
    "\n",
    "\n",
    "c1 = m.addConstrs((gp.quicksum(transport[p,w] for w in warehouses) <= capacity[p] * open[p] for p in plants), name = 'Capacity')\n",
    "m.update()\n",
    "c1\n",
    "\n",
    "# Using Python looping constructs, the preceding would be...\n",
    "#\n",
    "# for p in plants:\n",
    "#     m.addConstr(sum(transport[w][p] for w in warehouses)\n",
    "#                 <= capacity[p] * open[p], \"Capacity[%d]\" % p)\n"
   ]
  },
  {
   "cell_type": "code",
   "execution_count": null,
   "id": "8bad4aac",
   "metadata": {},
   "outputs": [],
   "source": [
    "# Demand constraints\n",
    "c2 = m.addConstrs((gp.quicksum(transport[p,w] for p in plants) == demand[w] for w in warehouses), name =\"Demand\")\n",
    "m.update()\n",
    "c2\n",
    "\n",
    "# ... and the preceding would be ...\n",
    "# for w in warehouses:\n",
    "#     m.addConstr(sum(transport[w][p] for p in plants) == demand[w],\n",
    "#                 \"Demand[%d]\" % w)"
   ]
  },
  {
   "cell_type": "markdown",
   "id": "4f330b88",
   "metadata": {},
   "source": [
    "### Objective Function\n",
    "\n",
    "- **Cost**: Minimize total costs."
   ]
  },
  {
   "cell_type": "code",
   "execution_count": null,
   "id": "54feb522",
   "metadata": {},
   "outputs": [],
   "source": [
    "m.setObjective(gp.quicksum(transCosts[p,w]*transport[p,w] for p in plants for w in warehouses)+gp.quicksum(fixedCosts[p]*open[p] for p in plants),GRB.MINIMIZE)"
   ]
  },
  {
   "cell_type": "code",
   "execution_count": null,
   "id": "e52ae4f2",
   "metadata": {},
   "outputs": [],
   "source": [
    "# The objective is to minimize the total fixed and variable costs\n",
    "#m.ModelSense = GRB.MINIMIZE"
   ]
  },
  {
   "cell_type": "code",
   "execution_count": null,
   "id": "b4c7ab5c",
   "metadata": {},
   "outputs": [],
   "source": [
    "# Save model\n",
    "m.write(\"facility.lp\")"
   ]
  },
  {
   "cell_type": "code",
   "execution_count": null,
   "id": "ad3feb3a",
   "metadata": {},
   "outputs": [],
   "source": [
    "# Solve\n",
    "m.optimize()\n",
    "    \n",
    "# Print solution\n",
    "print(f\"\\nTOTAL COSTS: {m.ObjVal:g}\")\n",
    "print(\"SOLUTION:\")\n",
    "for p in plants:\n",
    "    if open[p].X > 0.99:\n",
    "        print(f\"Plant {p} open\")\n",
    "        for w in warehouses:\n",
    "            if transport[p, w].X > 0:\n",
    "                print(f\"  Transport {transport[p, w].X:g} units to warehouse {w}\")\n",
    "    else:\n",
    "        print(f\"Plant {p} closed!\")"
   ]
  },
  {
   "cell_type": "markdown",
   "id": "e257840e",
   "metadata": {},
   "source": [
    "-----------------------------------------------------"
   ]
  }
 ],
 "metadata": {
  "kernelspec": {
   "display_name": "Python 3 (ipykernel)",
   "language": "python",
   "name": "python3"
  },
  "language_info": {
   "codemirror_mode": {
    "name": "ipython",
    "version": 3
   },
   "file_extension": ".py",
   "mimetype": "text/x-python",
   "name": "python",
   "nbconvert_exporter": "python",
   "pygments_lexer": "ipython3",
   "version": "3.12.3"
  }
 },
 "nbformat": 4,
 "nbformat_minor": 5
}
