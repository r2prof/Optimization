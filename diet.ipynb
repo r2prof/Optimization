{
 "cells": [
  {
   "cell_type": "markdown",
   "id": "302d02c6",
   "metadata": {},
   "source": [
    "### Problem\n",
    "Solve the classic diet model."
   ]
  },
  {
   "cell_type": "code",
   "execution_count": 1,
   "id": "0547efc1",
   "metadata": {},
   "outputs": [
    {
     "name": "stdout",
     "output_type": "stream",
     "text": [
      "Set parameter Username\n",
      "Academic license - for non-commercial use only - expires 2025-04-29\n"
     ]
    }
   ],
   "source": [
    "# First, import packages\n",
    "import pandas as pd\n",
    "import gurobipy as gp\n",
    "from gurobipy import GRB\n",
    "\n",
    "# Define a gurobipy model for the decision problem\n",
    "m = gp.Model('diet')"
   ]
  },
  {
   "cell_type": "markdown",
   "id": "de170aaa",
   "metadata": {},
   "source": [
    "### Data"
   ]
  },
  {
   "cell_type": "code",
   "execution_count": 2,
   "id": "daa43c31",
   "metadata": {},
   "outputs": [],
   "source": [
    "# Food categories, minimum nutrition and maximum nutrition information.\n",
    "\n",
    "categories, minNutrition, maxNutrition = gp.multidict({\n",
    "        \"calories\": [1800, 2200],\n",
    "        \"protein\": [91, GRB.INFINITY],\n",
    "        \"fat\": [0, 65],\n",
    "        \"sodium\": [0, 1779],\n",
    "})"
   ]
  },
  {
   "cell_type": "code",
   "execution_count": 3,
   "id": "0c82cdca",
   "metadata": {},
   "outputs": [],
   "source": [
    "# Food and cost information\n",
    "\n",
    "foods, cost = gp.multidict({\n",
    "        \"hamburger\": 2.49,\n",
    "        \"chicken\": 2.89,\n",
    "        \"hot dog\": 1.50,\n",
    "        \"fries\": 1.89,\n",
    "        \"macaroni\": 2.09,\n",
    "        \"pizza\": 1.99,\n",
    "        \"salad\": 2.49,\n",
    "        \"milk\": 0.89,\n",
    "        \"ice cream\": 1.59,\n",
    "})"
   ]
  },
  {
   "cell_type": "code",
   "execution_count": 4,
   "id": "850f02fa",
   "metadata": {},
   "outputs": [],
   "source": [
    "# Nutrition values for the foods\n",
    "\n",
    "nutritionValues = {\n",
    "    (\"hamburger\", \"calories\"): 410,\n",
    "    (\"hamburger\", \"protein\"): 24,\n",
    "    (\"hamburger\", \"fat\"): 26,\n",
    "    (\"hamburger\", \"sodium\"): 730,\n",
    "    (\"chicken\", \"calories\"): 420,\n",
    "    (\"chicken\", \"protein\"): 32,\n",
    "    (\"chicken\", \"fat\"): 10,\n",
    "    (\"chicken\", \"sodium\"): 1190,\n",
    "    (\"hot dog\", \"calories\"): 560,\n",
    "    (\"hot dog\", \"protein\"): 20,\n",
    "    (\"hot dog\", \"fat\"): 32,\n",
    "    (\"hot dog\", \"sodium\"): 1800,\n",
    "    (\"fries\", \"calories\"): 380,\n",
    "    (\"fries\", \"protein\"): 4,\n",
    "    (\"fries\", \"fat\"): 19,\n",
    "    (\"fries\", \"sodium\"): 270,\n",
    "    (\"macaroni\", \"calories\"): 320,\n",
    "    (\"macaroni\", \"protein\"): 12,\n",
    "    (\"macaroni\", \"fat\"): 10,\n",
    "    (\"macaroni\", \"sodium\"): 930,\n",
    "    (\"pizza\", \"calories\"): 320,\n",
    "    (\"pizza\", \"protein\"): 15,\n",
    "    (\"pizza\", \"fat\"): 12,\n",
    "    (\"pizza\", \"sodium\"): 820,\n",
    "    (\"salad\", \"calories\"): 320,\n",
    "    (\"salad\", \"protein\"): 31,\n",
    "    (\"salad\", \"fat\"): 12,\n",
    "    (\"salad\", \"sodium\"): 1230,\n",
    "    (\"milk\", \"calories\"): 100,\n",
    "    (\"milk\", \"protein\"): 8,\n",
    "    (\"milk\", \"fat\"): 2.5,\n",
    "    (\"milk\", \"sodium\"): 125,\n",
    "    (\"ice cream\", \"calories\"): 330,\n",
    "    (\"ice cream\", \"protein\"): 8,\n",
    "    (\"ice cream\", \"fat\"): 10,\n",
    "    (\"ice cream\", \"sodium\"): 180,\n",
    "}"
   ]
  },
  {
   "cell_type": "markdown",
   "id": "50b6b8fa",
   "metadata": {},
   "source": [
    "### Decision Variable"
   ]
  },
  {
   "cell_type": "code",
   "execution_count": 5,
   "id": "06ab1464",
   "metadata": {},
   "outputs": [
    {
     "data": {
      "text/plain": [
       "{'hamburger': <gurobi.Var buy[hamburger]>,\n",
       " 'chicken': <gurobi.Var buy[chicken]>,\n",
       " 'hot dog': <gurobi.Var buy[hot dog]>,\n",
       " 'fries': <gurobi.Var buy[fries]>,\n",
       " 'macaroni': <gurobi.Var buy[macaroni]>,\n",
       " 'pizza': <gurobi.Var buy[pizza]>,\n",
       " 'salad': <gurobi.Var buy[salad]>,\n",
       " 'milk': <gurobi.Var buy[milk]>,\n",
       " 'ice cream': <gurobi.Var buy[ice cream]>}"
      ]
     },
     "execution_count": 5,
     "metadata": {},
     "output_type": "execute_result"
    }
   ],
   "source": [
    "# Create decision variables for the foods to buy\n",
    "buy = m.addVars(foods, vtype = GRB.CONTINUOUS, name=\"buy\")\n",
    "m.update()\n",
    "buy\n",
    "\n",
    "# Another method:\n",
    "# You could use Python looping constructs and m.addVar() to create these decision variables instead.\n",
    "# The following would be equivalent\n",
    "#\n",
    "# buy = {}\n",
    "# for f in foods:\n",
    "#   buy[f] = m.addVar(name=f)"
   ]
  },
  {
   "cell_type": "markdown",
   "id": "1816a40f",
   "metadata": {},
   "source": [
    "### Constraint"
   ]
  },
  {
   "cell_type": "code",
   "execution_count": 6,
   "id": "ced45a56",
   "metadata": {},
   "outputs": [
    {
     "data": {
      "text/plain": [
       "{'calories': <gurobi.Constr R0>,\n",
       " 'protein': <gurobi.Constr R1>,\n",
       " 'fat': <gurobi.Constr R2>,\n",
       " 'sodium': <gurobi.Constr R3>}"
      ]
     },
     "execution_count": 6,
     "metadata": {},
     "output_type": "execute_result"
    }
   ],
   "source": [
    "# Nutrition constraints\n",
    "c1 = m.addConstrs(gp.quicksum(nutritionValues[f, c] * buy[f] for f in foods)\n",
    "                  == [minNutrition[c], maxNutrition[c]] for c in categories)\n",
    "m.update()\n",
    "c1\n",
    "\n",
    "# Another method:\n",
    "#m.addConstrs(\n",
    "#    (\n",
    "#        gp.quicksum(nutritionValues[f, c] * buy[f] for f in foods)\n",
    "#        == [minNutrition[c], maxNutrition[c]]\n",
    "#        for c in categories\n",
    "#    ),\n",
    "#    \"_\",\n",
    "#)\n",
    "#m.update()"
   ]
  },
  {
   "cell_type": "markdown",
   "id": "f192040a",
   "metadata": {},
   "source": [
    "### Objective Function"
   ]
  },
  {
   "cell_type": "code",
   "execution_count": 7,
   "id": "25cb86a1",
   "metadata": {},
   "outputs": [],
   "source": [
    "# The objective is to minimize the costs\n",
    "# m.setObjective(buy.prod(cost), GRB.MINIMIZE)\n",
    "\n",
    "# Using looping constructs, the preceding statement would be:\n",
    "m.setObjective(gp.quicksum(buy[f]*cost[f] for f in foods), GRB.MINIMIZE)\n",
    "\n",
    "# Another method:\n",
    "#m.setObjective(buy.prod(cost), GRB.MINIMIZE)"
   ]
  },
  {
   "cell_type": "code",
   "execution_count": 8,
   "id": "df9ded98",
   "metadata": {},
   "outputs": [
    {
     "name": "stdout",
     "output_type": "stream",
     "text": [
      "Warning: variable name \"buy[hot dog]\" has a space\n",
      "Warning: to let Gurobi read it back, use rlp format\n"
     ]
    }
   ],
   "source": [
    "# Save model\n",
    "m.write(\"diet.lp\")"
   ]
  },
  {
   "cell_type": "markdown",
   "id": "0efe9995",
   "metadata": {},
   "source": [
    "### Solve/Optimize"
   ]
  },
  {
   "cell_type": "code",
   "execution_count": 9,
   "id": "5d80b8a6",
   "metadata": {},
   "outputs": [
    {
     "name": "stdout",
     "output_type": "stream",
     "text": [
      "Gurobi Optimizer version 11.0.1 build v11.0.1rc0 (linux64 - \"Linux Mint 21.3\")\n",
      "\n",
      "CPU model: AMD Ryzen 5 5600G with Radeon Graphics, instruction set [SSE2|AVX|AVX2]\n",
      "Thread count: 6 physical cores, 12 logical processors, using up to 12 threads\n",
      "\n",
      "Optimize a model with 4 rows, 12 columns and 39 nonzeros\n",
      "Model fingerprint: 0x33ddb849\n",
      "Coefficient statistics:\n",
      "  Matrix range     [1e+00, 2e+03]\n",
      "  Objective range  [9e-01, 3e+00]\n",
      "  Bounds range     [6e+01, 2e+03]\n",
      "  RHS range        [6e+01, 2e+03]\n",
      "Presolve removed 0 rows and 2 columns\n",
      "Presolve time: 0.01s\n",
      "Presolved: 4 rows, 10 columns, 37 nonzeros\n",
      "\n",
      "Iteration    Objective       Primal Inf.    Dual Inf.      Time\n",
      "       0    0.0000000e+00   1.472500e+02   0.000000e+00      0s\n",
      "       4    1.1828861e+01   0.000000e+00   0.000000e+00      0s\n",
      "\n",
      "Solved in 4 iterations and 0.01 seconds (0.00 work units)\n",
      "Optimal objective  1.182886111e+01\n"
     ]
    }
   ],
   "source": [
    "# Solve\n",
    "m.optimize()"
   ]
  },
  {
   "cell_type": "markdown",
   "id": "70bfb856",
   "metadata": {},
   "source": [
    "### Print solution"
   ]
  },
  {
   "cell_type": "code",
   "execution_count": 10,
   "id": "4af35d01",
   "metadata": {},
   "outputs": [
    {
     "name": "stdout",
     "output_type": "stream",
     "text": [
      "\n",
      "Cost: 11.8289\n",
      "\n",
      "Buy:\n",
      "hamburger 0.604514\n",
      "milk 6.97014\n",
      "ice cream 2.59132\n"
     ]
    }
   ],
   "source": [
    "def printSolution():\n",
    "    if m.status == GRB.OPTIMAL:\n",
    "        print(f\"\\nCost: {m.ObjVal:g}\")\n",
    "        print(\"\\nBuy:\")\n",
    "        for f in foods:\n",
    "            if buy[f].X > 0.0001:\n",
    "                print(f\"{f} {buy[f].X:g}\")\n",
    "    else:\n",
    "        print(\"No solution\")\n",
    "\n",
    "printSolution()"
   ]
  },
  {
   "cell_type": "markdown",
   "id": "601fcafe",
   "metadata": {},
   "source": [
    "----------------------------------------------"
   ]
  }
 ],
 "metadata": {
  "kernelspec": {
   "display_name": "Python 3 (ipykernel)",
   "language": "python",
   "name": "python3"
  },
  "language_info": {
   "codemirror_mode": {
    "name": "ipython",
    "version": 3
   },
   "file_extension": ".py",
   "mimetype": "text/x-python",
   "name": "python",
   "nbconvert_exporter": "python",
   "pygments_lexer": "ipython3",
   "version": "3.12.3"
  }
 },
 "nbformat": 4,
 "nbformat_minor": 5
}
