{
 "cells": [
  {
   "cell_type": "code",
   "execution_count": null,
   "id": "42652b21",
   "metadata": {},
   "outputs": [],
   "source": [
    "# Problem Statement\n",
    "# Gandhi Cloth Company is capable of manufacturing three types of clothing: shirts, shorts,\n",
    "# and pants. The manufacture of each type of clothing requires that Gandhi have the ap-\n",
    "# propriate type of machinery available. The machinery needed to manufacture each type\n",
    "# of clothing must be rented at the following rates: shirt machinery, $200 per week; shorts\n",
    "# machinery, $150 per week; pants machinery, $100 per week. The manufacture of each\n",
    "# type of clothing also requires the amounts of cloth and labor shown in Table 2. Each week,\n",
    "# 150 hours of labor and 160 sq yd of cloth are available. The variable unit cost and sell-\n",
    "# ing price for each type of clothing are shown in Table 3. \n",
    "\n",
    "# Formulate an IP whose solution will maximize Gandhi’s weekly profits."
   ]
  },
  {
   "cell_type": "markdown",
   "id": "f8686cce",
   "metadata": {},
   "source": [
    "![](Gandhi-Cloth.png)"
   ]
  },
  {
   "cell_type": "code",
   "execution_count": 19,
   "id": "28e16593-5c56-43d6-b2fb-d05835d38ea3",
   "metadata": {
    "colab": {
     "base_uri": "https://localhost:8080/"
    },
    "id": "28e16593-5c56-43d6-b2fb-d05835d38ea3",
    "outputId": "cbcca3fe-bd61-4fed-c85a-b0e19f9314e9"
   },
   "outputs": [],
   "source": [
    "# First, import packages\n",
    "import pandas as pd\n",
    "import gurobipy as gp\n",
    "from gurobipy import GRB\n",
    "\n",
    "# Define a gurobipy model for the decision problem\n",
    "m = gp.Model('fixed-charge')"
   ]
  },
  {
   "cell_type": "markdown",
   "id": "cca98af8-c5c2-4883-8c48-f104ff798010",
   "metadata": {
    "id": "cca98af8-c5c2-4883-8c48-f104ff798010"
   },
   "source": [
    "## Decision Variables\n",
    "This is what the optimization solver determines, which are the actions you have control over. As a reminder, they come in three main flavors:\n",
    "- `Continuous`: Price of a product\n",
    "- `Integer`: The number of food trucks to use for an event\n",
    "- `Binary`: Yes/no decision to include a certain stock in a portfolio\n",
    "\n",
    "\n",
    "### Add Variables in gurobipy\n",
    "`gurobipy` let's you add decision variables primarily with two (similar) commands:\n",
    "- [addVar()](https://www.gurobi.com/documentation/10.0/refman/py_model_addvar.html) adds a single variable\n",
    "- [addVars()](https://www.gurobi.com/documentation/10.0/refman/py_model_addvar.html) adds a group of variables by sets/indices\n",
    "\n",
    "When using `addVars` you have to provide the indices of the variables you want to add, which for us are the production and distribution locations. There are other arguments we can use and will cover a couple of them later on.  \n",
    "\n",
    "### Our Decision Variables\n",
    "As is often the case in writing code, there are several ways to get to the same point. Below we can see three different ways to create the decision variables.\n"
   ]
  },
  {
   "cell_type": "code",
   "execution_count": 20,
   "id": "e1aa606a",
   "metadata": {},
   "outputs": [],
   "source": [
    "# Create integer variables\n",
    "# x1 = number of shirts produced each week \n",
    "x1 = m.addVar(vtype=GRB.INTEGER, name=\"x1\")\n",
    "\n",
    "# x2 = number of shorts produced each week \n",
    "x2 = m.addVar(vtype=GRB.INTEGER, name=\"x2\")\n",
    "\n",
    "# x3 = number of pants produced each week \n",
    "x3= m.addVar(vtype=GRB.INTEGER, name=\"x3\")"
   ]
  },
  {
   "cell_type": "code",
   "execution_count": 21,
   "id": "cafed9b7",
   "metadata": {},
   "outputs": [],
   "source": [
    "# Create binary variables\n",
    "# y1 = 1, if any shirts are manufactured, 0 otherwise \n",
    "y1 = m.addVar(vtype=GRB.BINARY, name=\"y1\")\n",
    "\n",
    "# y2 = 1, if any shorts are manufactured, 0 otherwise \n",
    "y2 = m.addVar(vtype=GRB.BINARY, name=\"y2\")\n",
    "\n",
    "# y3 = 1, if any pants are manufactured, 0 otherwise \n",
    "y3 = m.addVar(vtype=GRB.BINARY, name=\"y3\")"
   ]
  },
  {
   "cell_type": "code",
   "execution_count": 22,
   "id": "13cbfcc6",
   "metadata": {},
   "outputs": [],
   "source": [
    "# Set objective\n",
    "m.setObjective(6 * x1 +  4 * x2 + 7 * x3 - 200 * y1 - 150 * y2 - 100 * y3, GRB.MAXIMIZE)"
   ]
  },
  {
   "cell_type": "code",
   "execution_count": 24,
   "id": "7fdb0c58",
   "metadata": {},
   "outputs": [],
   "source": [
    "# Constraints\n",
    "# Constraint 1: At most, 150 hours of labor can be used each week.\n",
    "labor = m.addConstr(3 * x1 + 2 * x2 + 6 * x3 <= 150, \"c1\")    # labor constraint"
   ]
  },
  {
   "cell_type": "code",
   "execution_count": 25,
   "id": "5a0ab5c4",
   "metadata": {},
   "outputs": [],
   "source": [
    "# Constraint 2: At most, 160 sq yd of cloth can be used each week.\n",
    "cloth = m.addConstr(4 * x1 + 3 * x2 + 4 * x3 <= 160, \"c2\")    # cloth constraint"
   ]
  },
  {
   "cell_type": "code",
   "execution_count": 26,
   "id": "0345ac9b",
   "metadata": {},
   "outputs": [],
   "source": [
    "# Update the model\n",
    "m.update()"
   ]
  },
  {
   "cell_type": "code",
   "execution_count": 27,
   "id": "66a11e12",
   "metadata": {},
   "outputs": [
    {
     "name": "stdout",
     "output_type": "stream",
     "text": [
      "Gurobi Optimizer version 11.0.1 build v11.0.1rc0 (linux64 - \"Linux Mint 21.3\")\n",
      "\n",
      "CPU model: AMD Ryzen 5 5600G with Radeon Graphics, instruction set [SSE2|AVX|AVX2]\n",
      "Thread count: 6 physical cores, 12 logical processors, using up to 12 threads\n",
      "\n",
      "Optimize a model with 2 rows, 6 columns and 6 nonzeros\n",
      "Model fingerprint: 0xb1fffcab\n",
      "Variable types: 0 continuous, 6 integer (3 binary)\n",
      "Coefficient statistics:\n",
      "  Matrix range     [2e+00, 6e+00]\n",
      "  Objective range  [4e+00, 2e+02]\n",
      "  Bounds range     [1e+00, 1e+00]\n",
      "  RHS range        [2e+02, 2e+02]\n",
      "Found heuristic solution: objective 240.0000000\n",
      "Presolve removed 0 rows and 3 columns\n",
      "Presolve time: 0.00s\n",
      "Presolved: 2 rows, 3 columns, 6 nonzeros\n",
      "Variable types: 0 continuous, 3 integer (0 binary)\n",
      "Found heuristic solution: objective 241.0000000\n",
      "\n",
      "Root relaxation: objective 2.500000e+02, 3 iterations, 0.00 seconds (0.00 work units)\n",
      "\n",
      "    Nodes    |    Current Node    |     Objective Bounds      |     Work\n",
      " Expl Unexpl |  Obj  Depth IntInf | Incumbent    BestBd   Gap | It/Node Time\n",
      "\n",
      "*    0     0               0     250.0000000  250.00000  0.00%     -    0s\n",
      "\n",
      "Explored 1 nodes (3 simplex iterations) in 0.01 seconds (0.00 work units)\n",
      "Thread count was 12 (of 12 available processors)\n",
      "\n",
      "Solution count 3: 250 241 240 \n",
      "\n",
      "Optimal solution found (tolerance 1.00e-04)\n",
      "Best objective 2.500000000000e+02, best bound 2.500000000000e+02, gap 0.0000%\n"
     ]
    }
   ],
   "source": [
    "# Optimize model\n",
    "m.optimize()"
   ]
  },
  {
   "cell_type": "code",
   "execution_count": 28,
   "id": "29ea3838",
   "metadata": {},
   "outputs": [
    {
     "name": "stdout",
     "output_type": "stream",
     "text": [
      "x1 30\n",
      "x2 -0\n",
      "x3 10\n",
      "y1 0\n",
      "y2 0\n",
      "y3 0\n",
      "Obj: 250\n"
     ]
    }
   ],
   "source": [
    "# Print results\n",
    "for v in m.getVars():\n",
    "    print(f\"{v.VarName} {v.X:g}\")\n",
    "\n",
    "print(f\"Obj: {m.ObjVal:g}\")"
   ]
  },
  {
   "cell_type": "markdown",
   "id": "94a42856-5458-4501-959e-c0265af517c2",
   "metadata": {
    "id": "94a42856-5458-4501-959e-c0265af517c2"
   },
   "source": [
    "![](bigM-constraint.png)"
   ]
  },
  {
   "cell_type": "code",
   "execution_count": 30,
   "id": "a182f599",
   "metadata": {},
   "outputs": [],
   "source": [
    "# Define Big M\n",
    "M = 5000"
   ]
  },
  {
   "cell_type": "code",
   "execution_count": 32,
   "id": "a1d2d781",
   "metadata": {},
   "outputs": [],
   "source": [
    "# Constraint 3: Adding Big M constraints\n",
    "c3 = m.addConstr(x1 <= M * y1, \"c3\")    # x1 <= M * y1\n",
    "c4 = m.addConstr(x2 <= M * y2, \"c4\")    # x2 <= M * y2\n",
    "c5 = m.addConstr(x3 <= M * y3, \"c5\")    # x3 <= M * y3"
   ]
  },
  {
   "cell_type": "markdown",
   "id": "659bbc84",
   "metadata": {},
   "source": [
    "![](bigM-explain.png)"
   ]
  },
  {
   "cell_type": "code",
   "execution_count": 33,
   "id": "2dfeec87",
   "metadata": {},
   "outputs": [],
   "source": [
    "# Update the model\n",
    "m.update()"
   ]
  },
  {
   "cell_type": "code",
   "execution_count": 34,
   "id": "0df8e8b3",
   "metadata": {},
   "outputs": [
    {
     "name": "stdout",
     "output_type": "stream",
     "text": [
      "Gurobi Optimizer version 11.0.1 build v11.0.1rc0 (linux64 - \"Linux Mint 21.3\")\n",
      "\n",
      "CPU model: AMD Ryzen 5 5600G with Radeon Graphics, instruction set [SSE2|AVX|AVX2]\n",
      "Thread count: 6 physical cores, 12 logical processors, using up to 12 threads\n",
      "\n",
      "Optimize a model with 11 rows, 6 columns and 24 nonzeros\n",
      "Model fingerprint: 0x58c9a861\n",
      "Variable types: 0 continuous, 6 integer (3 binary)\n",
      "Coefficient statistics:\n",
      "  Matrix range     [1e+00, 5e+03]\n",
      "  Objective range  [4e+00, 2e+02]\n",
      "  Bounds range     [1e+00, 1e+00]\n",
      "  RHS range        [2e+02, 2e+02]\n",
      "\n",
      "MIP start from previous solve did not produce a new incumbent solution\n",
      "MIP start from previous solve violates constraint c3 by 30.000000000\n",
      "\n",
      "Found heuristic solution: objective -0.0000000\n",
      "Found heuristic solution: objective 40.0000000\n",
      "Presolve removed 6 rows and 0 columns\n",
      "Presolve time: 0.00s\n",
      "Presolved: 5 rows, 6 columns, 12 nonzeros\n",
      "Variable types: 0 continuous, 6 integer (3 binary)\n",
      "\n",
      "Root relaxation: objective 8.111321e+01, 4 iterations, 0.00 seconds (0.00 work units)\n",
      "\n",
      "    Nodes    |    Current Node    |     Objective Bounds      |     Work\n",
      " Expl Unexpl |  Obj  Depth IntInf | Incumbent    BestBd   Gap | It/Node Time\n",
      "\n",
      "     0     0   81.11321    0    2   40.00000   81.11321   103%     -    0s\n",
      "H    0     0                      75.0000000   81.11321  8.15%     -    0s\n",
      "\n",
      "Cutting planes:\n",
      "  Flow cover: 2\n",
      "\n",
      "Explored 1 nodes (4 simplex iterations) in 0.01 seconds (0.00 work units)\n",
      "Thread count was 12 (of 12 available processors)\n",
      "\n",
      "Solution count 3: 75 40 -0 \n",
      "\n",
      "Optimal solution found (tolerance 1.00e-04)\n",
      "Best objective 7.500000000000e+01, best bound 7.500000000000e+01, gap 0.0000%\n"
     ]
    }
   ],
   "source": [
    "# Optimize model\n",
    "m.optimize()"
   ]
  },
  {
   "cell_type": "code",
   "execution_count": 35,
   "id": "a8077947",
   "metadata": {},
   "outputs": [
    {
     "name": "stdout",
     "output_type": "stream",
     "text": [
      "x1 -0\n",
      "x2 -0\n",
      "x3 25\n",
      "y1 -0\n",
      "y2 -0\n",
      "y3 1\n",
      "Obj: 75\n"
     ]
    }
   ],
   "source": [
    "# Print results\n",
    "for v in m.getVars():\n",
    "    print(f\"{v.VarName} {v.X:g}\")\n",
    "\n",
    "print(f\"Obj: {m.ObjVal:g}\")"
   ]
  },
  {
   "cell_type": "markdown",
   "id": "90a9b8d1-fe39-410a-a551-4ddb165ffd5a",
   "metadata": {
    "id": "90a9b8d1-fe39-410a-a551-4ddb165ffd5a"
   },
   "source": [
    "### ----------------------------"
   ]
  }
 ],
 "metadata": {
  "colab": {
   "provenance": []
  },
  "kernelspec": {
   "display_name": "Python 3 (ipykernel)",
   "language": "python",
   "name": "python3"
  },
  "language_info": {
   "codemirror_mode": {
    "name": "ipython",
    "version": 3
   },
   "file_extension": ".py",
   "mimetype": "text/x-python",
   "name": "python",
   "nbconvert_exporter": "python",
   "pygments_lexer": "ipython3",
   "version": "3.12.3"
  },
  "toc-autonumbering": false,
  "toc-showcode": false,
  "toc-showmarkdowntxt": false,
  "vscode": {
   "interpreter": {
    "hash": "70d79b410022258e996d14a47d5687c6c473c4d5d0c04ea47c92533eee9f501f"
   }
  }
 },
 "nbformat": 4,
 "nbformat_minor": 5
}
