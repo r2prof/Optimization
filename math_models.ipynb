{
 "cells": [
  {
   "cell_type": "markdown",
   "id": "423d5079-1b15-47b6-941e-c4065e644482",
   "metadata": {},
   "source": [
    "\n",
    "\n",
    "\\begin{equation}\n",
    "\\text{Minimize } Z = \\sum_{i=1}^{m} \\sum_{j=1}^{n} C_{ij} \\cdot x_{ij}\n",
    "\\end{equation}\n",
    "\n",
    "\n",
    "\n",
    "\\begin{align}\n",
    "\\text{Supply Constraints:} & \\quad \\sum_{j=1}^{n} x_{ij} \\leq S_i \\quad \\text{for } i = 1, 2, \\ldots, m \\\\\n",
    "\\text{Demand Constraints:} & \\quad \\sum_{i=1}^{m} x_{ij} \\geq D_j \\quad \\text{for } j = 1, 2, \\ldots, n \\\\\n",
    "\\text{Non-negativity Constraints:} & \\quad x_{ij} \\geq 0 \\quad \\text{for } i = 1, 2, \\ldots, m \\text{ and } j = 1, 2, \\ldots, n\n",
    "\\end{align}\n",
    "\n"
   ]
  },
  {
   "cell_type": "code",
   "execution_count": null,
   "id": "95e694c5-0fa1-4e28-ab03-a16399831c7d",
   "metadata": {},
   "outputs": [],
   "source": []
  },
  {
   "cell_type": "markdown",
   "id": "09d9b511-caa2-48eb-9b44-ca08ae7350d8",
   "metadata": {},
   "source": [
    "\\begin{equation}\n",
    "\\text{Minimize } Z = \\sum_{i=1}^{n} \\sum_{j=1}^{n} C_{ij} \\cdot x_{ij}\n",
    "\\end{equation}\n",
    "\n",
    "\n",
    "\n",
    "\\begin{align}\n",
    "\\text{Each task is assigned to exactly one agent:} & \\quad \\sum_{j=1}^{n} x_{ij} = 1 \\quad \\text{for } i = 1, 2, \\ldots, n \\\\\n",
    "\\text{Each agent is assigned at most one task:} & \\quad \\sum_{i=1}^{n} x_{ij} \\leq 1 \\quad \\text{for } j = 1, 2, \\ldots, n \\\\\n",
    "\\text{Binary constraints:} & \\quad x_{ij} \\in \\{0, 1\\} \\quad \\text{for } i, j = 1, 2, \\ldots, n\n",
    "\\end{align}\n",
    "\n",
    "\n"
   ]
  },
  {
   "cell_type": "code",
   "execution_count": null,
   "id": "cd7db7b6-b344-44b0-8fe6-aabbaeacc750",
   "metadata": {},
   "outputs": [],
   "source": []
  },
  {
   "cell_type": "markdown",
   "id": "ad58cfff-7d3e-47c4-a498-1a001af1dd04",
   "metadata": {},
   "source": [
    "\n",
    "\n",
    "\\begin{equation}\n",
    "\\text{Minimize } Z = \\sum_{i=1}^{m} \\sum_{j=1}^{n} \\sum_{k=1}^{p} C_{ijk} \\cdot X_{ijk}\n",
    "\\end{equation}\n",
    "\n",
    "\n",
    "\n",
    "\\begin{align}\n",
    "\\text{Supply Constraints:} & \\quad \\sum_{j=1}^{n} \\sum_{k=1}^{p} X_{ijk} \\leq S_i \\quad \\text{for } i = 1, 2, \\ldots, m \\\\\n",
    "\\text{Demand Constraints:} & \\quad \\sum_{i=1}^{m} \\sum_{k=1}^{p} X_{ijk} \\geq D_j \\quad \\text{for } j = 1, 2, \\ldots, n \\\\\n",
    "\\text{Balance Constraints at Transshipment Nodes:} & \\quad \\sum_{i=1}^{m} X_{ijk} = \\sum_{j=1}^{n} X_{ijk} \\quad \\text{for } k = 1, 2, \\ldots, p \\\\\n",
    "\\text{Non-negativity Constraints:} & \\quad X_{ijk} \\geq 0 \\quad \\text{for } i = 1, 2, \\ldots, m, \\, j = 1, 2, \\ldots, n, \\, k = 1, 2, \\ldots, p\n",
    "\\end{align}\n",
    "\n"
   ]
  },
  {
   "cell_type": "code",
   "execution_count": null,
   "id": "acfa6247-298f-402e-bcc6-d70fa4eadac7",
   "metadata": {},
   "outputs": [],
   "source": []
  }
 ],
 "metadata": {
  "kernelspec": {
   "display_name": "Python 3 (ipykernel)",
   "language": "python",
   "name": "python3"
  },
  "language_info": {
   "name": ""
  }
 },
 "nbformat": 4,
 "nbformat_minor": 5
}
