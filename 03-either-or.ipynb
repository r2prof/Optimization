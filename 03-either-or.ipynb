{
 "cells": [
  {
   "cell_type": "code",
   "execution_count": 1,
   "id": "42652b21",
   "metadata": {},
   "outputs": [],
   "source": [
    "# Problem Statement\n",
    "# Dorian Auto is considering manufacturing three types of autos: compact, midsize, and large. \n",
    "# The resources required for, and the profits yielded by, each type of car are shown in Table 8. \n",
    "# Currently, 6,000 tons of steel and 60,000 hours of labor are available. For production of a type \n",
    "# of car to be economically feasible, at least 1,000 cars of that type must be produced. \n",
    "\n",
    "# Formulate an IP to maximize Dorian’s profit."
   ]
  },
  {
   "cell_type": "markdown",
   "id": "f8686cce",
   "metadata": {},
   "source": [
    "![](Dorian-Auto.png)"
   ]
  },
  {
   "cell_type": "markdown",
   "id": "89eeb5ad",
   "metadata": {
    "id": "89eeb5ad"
   },
   "source": [
    "# Translating a Decision Problem to an Optimization Model\n",
    "\n",
    "In the first video we discussed a few key concepts that are necessary for mathematical optimization:\n",
    "- parameters\n",
    "- decision variables\n",
    "- constraints\n",
    "- objective function\n",
    "\n",
    "In this first modeling example we will see how these are used to formulate a decision problem as an optimization model and code the formulation using `gurobipy`. For more information on all of the commands in the Python API check out our [documentation](https://www.gurobi.com/documentation/10.0/refman/py_python_api_details.html).\n",
    "\n",
    "## The Decision Problem\n",
    "Dorian Auto is considering manufacturing three types of autos: compact, midsize, and large. The resources required for, and the profits yielded by, each type of car are shown in Table 8. Currently, 6,000 tons of steel and 60,000 hours of labor are available. For production of a type of car to be economically feasible, at least 1,000 cars of that type must \n",
    "be produced. Formulate an IP to maximize Dorian’s profit.\n",
    "\n",
    "## Sets and Define Model\n",
    "Our sets are:\n",
    "- $C = \\{\\texttt{'compact', 'midsize', 'large'}\\} \\quad\\quad\\quad\\quad\\quad\\quad\\quad\\space\\space \\texttt{cars}$\n",
    "\n",
    "To index each set, we'll use the lowercase letter of each set. Letters used for sets and indices are up to you. Typically, capital letters are for sets and corresponding lowercase will be the index. Single letters are used mainly for conciseness."
   ]
  },
  {
   "cell_type": "code",
   "execution_count": 2,
   "id": "28e16593-5c56-43d6-b2fb-d05835d38ea3",
   "metadata": {
    "colab": {
     "base_uri": "https://localhost:8080/"
    },
    "id": "28e16593-5c56-43d6-b2fb-d05835d38ea3",
    "outputId": "cbcca3fe-bd61-4fed-c85a-b0e19f9314e9"
   },
   "outputs": [
    {
     "name": "stdout",
     "output_type": "stream",
     "text": [
      "Set parameter Username\n",
      "Academic license - for non-commercial use only - expires 2025-04-29\n"
     ]
    }
   ],
   "source": [
    "# First, import packages\n",
    "import pandas as pd\n",
    "import gurobipy as gp\n",
    "from gurobipy import GRB\n",
    "\n",
    "# Define a gurobipy model for the decision problem\n",
    "m = gp.Model('cars')"
   ]
  },
  {
   "cell_type": "markdown",
   "id": "cca98af8-c5c2-4883-8c48-f104ff798010",
   "metadata": {
    "id": "cca98af8-c5c2-4883-8c48-f104ff798010"
   },
   "source": [
    "## Decision Variables\n",
    "This is what the optimization solver determines, which are the actions you have control over. As a reminder, they come in three main flavors:\n",
    "- `Continuous`: Price of a product\n",
    "- `Integer`: The number of food trucks to use for an event\n",
    "- `Binary`: Yes/no decision to include a certain stock in a portfolio\n",
    "\n",
    "\n",
    "### Add Variables in gurobipy\n",
    "`gurobipy` let's you add decision variables primarily with two (similar) commands:\n",
    "- [addVar()](https://www.gurobi.com/documentation/10.0/refman/py_model_addvar.html) adds a single variable\n",
    "- [addVars()](https://www.gurobi.com/documentation/10.0/refman/py_model_addvar.html) adds a group of variables by sets/indices\n",
    "\n",
    "When using `addVars` you have to provide the indices of the variables you want to add, which for us are the production and distribution locations. There are other arguments we can use and will cover a couple of them later on.  \n",
    "\n",
    "### Our Decision Variables\n",
    "As is often the case in writing code, there are several ways to get to the same point. Below we can see three different ways to create the decision variables."
   ]
  },
  {
   "cell_type": "code",
   "execution_count": 3,
   "id": "e1aa606a",
   "metadata": {},
   "outputs": [],
   "source": [
    "# Create integer variables\n",
    "x1 = m.addVar(vtype=GRB.INTEGER, name=\"x1\")\n",
    "x2 = m.addVar(vtype=GRB.INTEGER, name=\"x2\")\n",
    "x3= m.addVar(vtype=GRB.INTEGER, name=\"x3\")\n",
    "\n",
    "# Create binary variables\n",
    "y1 = m.addVar(vtype=GRB.BINARY, name=\"y1\")\n",
    "y2 = m.addVar(vtype=GRB.BINARY, name=\"y2\")\n",
    "y3 = m.addVar(vtype=GRB.BINARY, name=\"y3\")\n",
    "\n",
    "m.update()"
   ]
  },
  {
   "cell_type": "code",
   "execution_count": 4,
   "id": "13cbfcc6",
   "metadata": {},
   "outputs": [],
   "source": [
    "# Set objective\n",
    "m.setObjective(2 * x1 +  3 * x2 + 4 * x3, GRB.MAXIMIZE)"
   ]
  },
  {
   "cell_type": "code",
   "execution_count": 5,
   "id": "a182f599",
   "metadata": {},
   "outputs": [],
   "source": [
    "# Define Big M\n",
    "M = 5000"
   ]
  },
  {
   "cell_type": "code",
   "execution_count": 6,
   "id": "7fdb0c58",
   "metadata": {},
   "outputs": [],
   "source": [
    "# Either or Constraint\n",
    "# Constraint 1 --- x1 <= 0 OR x1 >= 1,000\n",
    "\n",
    "c1 = m.addConstr(x1 <= M * y1, \"c1\")                   # either constraint\n",
    "\n",
    "c11 = m.addConstr(1000 - x1 <= M *(1-y1), \"c11\")       # or constraint"
   ]
  },
  {
   "cell_type": "code",
   "execution_count": 7,
   "id": "5a0ab5c4",
   "metadata": {},
   "outputs": [],
   "source": [
    "# Either or Constraint\n",
    "# Constraint 2 --- x2 <= 0 OR x2 >= 1,000 \n",
    "c2 = m.addConstr(x2 <= M * y2, \"c2\")\n",
    "\n",
    "c22 = m.addConstr(1000 - x2 <= M * (1-y2), \"c22\")"
   ]
  },
  {
   "cell_type": "code",
   "execution_count": 10,
   "id": "fe1e0b86",
   "metadata": {},
   "outputs": [],
   "source": [
    "# Either or Constraint\n",
    "# Constraint 3 --- x3 <= 0 OR x3 >= 1,000\n",
    "c3 = m.addConstr(x3 <= M * y3, \"c3\")\n",
    "\n",
    "c33 = m.addConstr(1000 - x3 <= M * (1-y3), \"c33\")"
   ]
  },
  {
   "cell_type": "code",
   "execution_count": 11,
   "id": "7a51612f",
   "metadata": {},
   "outputs": [],
   "source": [
    "# Constraint 4 --- The cars produced can use at most 6,000 tons of steel.\n",
    "c4 = m.addConstr(1.5 * x1 + 3 * x2 + 5 * x3 <= 6000, \"c4\")"
   ]
  },
  {
   "cell_type": "code",
   "execution_count": 12,
   "id": "0345ac9b",
   "metadata": {},
   "outputs": [],
   "source": [
    "# Constraint 5 --- The cars produced can use at most 60,000 hours of labor.\n",
    "c5 = m.addConstr(30 * x1 + 25 * x2 + 40 * x3 <= 60000, \"c5\")\n",
    "m.update()"
   ]
  },
  {
   "cell_type": "code",
   "execution_count": 13,
   "id": "66a11e12",
   "metadata": {},
   "outputs": [
    {
     "name": "stdout",
     "output_type": "stream",
     "text": [
      "Gurobi Optimizer version 11.0.1 build v11.0.1rc0 (linux64 - \"Linux Mint 21.3\")\n",
      "\n",
      "CPU model: AMD Ryzen 5 5600G with Radeon Graphics, instruction set [SSE2|AVX|AVX2]\n",
      "Thread count: 6 physical cores, 12 logical processors, using up to 12 threads\n",
      "\n",
      "Optimize a model with 9 rows, 6 columns and 21 nonzeros\n",
      "Model fingerprint: 0x127c77b4\n",
      "Variable types: 0 continuous, 6 integer (3 binary)\n",
      "Coefficient statistics:\n",
      "  Matrix range     [1e+00, 5e+03]\n",
      "  Objective range  [2e+00, 4e+00]\n",
      "  Bounds range     [1e+00, 1e+00]\n",
      "  RHS range        [4e+03, 6e+04]\n",
      "Found heuristic solution: objective -0.0000000\n",
      "Presolve removed 1 rows and 0 columns\n",
      "Presolve time: 0.00s\n",
      "Presolved: 8 rows, 6 columns, 18 nonzeros\n",
      "Variable types: 0 continuous, 6 integer (3 binary)\n",
      "\n",
      "Root relaxation: objective 6.285714e+03, 4 iterations, 0.00 seconds (0.00 work units)\n",
      "\n",
      "    Nodes    |    Current Node    |     Objective Bounds      |     Work\n",
      " Expl Unexpl |  Obj  Depth IntInf | Incumbent    BestBd   Gap | It/Node Time\n",
      "\n",
      "     0     0 6285.71429    0    3   -0.00000 6285.71429      -     -    0s\n",
      "H    0     0                    6000.0000000 6285.71429  4.76%     -    0s\n",
      "\n",
      "Cutting planes:\n",
      "  Gomory: 2\n",
      "\n",
      "Explored 1 nodes (4 simplex iterations) in 0.01 seconds (0.00 work units)\n",
      "Thread count was 12 (of 12 available processors)\n",
      "\n",
      "Solution count 2: 6000 -0 \n",
      "\n",
      "Optimal solution found (tolerance 1.00e-04)\n",
      "Best objective 6.000000000000e+03, best bound 6.000000000000e+03, gap 0.0000%\n"
     ]
    }
   ],
   "source": [
    "# Optimize model\n",
    "m.optimize()"
   ]
  },
  {
   "cell_type": "code",
   "execution_count": 14,
   "id": "29ea3838",
   "metadata": {},
   "outputs": [
    {
     "name": "stdout",
     "output_type": "stream",
     "text": [
      "x1 0\n",
      "x2 2000\n",
      "x3 0\n",
      "y1 0\n",
      "y2 1\n",
      "y3 0\n",
      "Obj: 6000\n"
     ]
    }
   ],
   "source": [
    "# Print results\n",
    "for v in m.getVars():\n",
    "    print(f\"{v.VarName} {v.X:g}\")\n",
    "\n",
    "print(f\"Obj: {m.ObjVal:g}\")"
   ]
  },
  {
   "cell_type": "markdown",
   "id": "90a9b8d1-fe39-410a-a551-4ddb165ffd5a",
   "metadata": {
    "id": "90a9b8d1-fe39-410a-a551-4ddb165ffd5a"
   },
   "source": [
    "### ----------------------------"
   ]
  }
 ],
 "metadata": {
  "colab": {
   "provenance": []
  },
  "kernelspec": {
   "display_name": "Python 3 (ipykernel)",
   "language": "python",
   "name": "python3"
  },
  "language_info": {
   "codemirror_mode": {
    "name": "ipython",
    "version": 3
   },
   "file_extension": ".py",
   "mimetype": "text/x-python",
   "name": "python",
   "nbconvert_exporter": "python",
   "pygments_lexer": "ipython3",
   "version": "3.12.3"
  },
  "toc-autonumbering": false,
  "toc-showcode": false,
  "toc-showmarkdowntxt": false,
  "vscode": {
   "interpreter": {
    "hash": "70d79b410022258e996d14a47d5687c6c473c4d5d0c04ea47c92533eee9f501f"
   }
  }
 },
 "nbformat": 4,
 "nbformat_minor": 5
}
