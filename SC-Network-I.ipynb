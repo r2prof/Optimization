{
 "cells": [
  {
   "cell_type": "markdown",
   "metadata": {
    "colab_type": "text",
    "id": "view-in-github"
   },
   "source": [
    "<a href=\"https://colab.research.google.com/github/r2prof/Optimization/blob/main/supply_network_design/supply_network_design_1.ipynb\" target=\"_parent\"><img src=\"https://colab.research.google.com/assets/colab-badge.svg\" alt=\"Open In Colab\"/></a>"
   ]
  },
  {
   "cell_type": "markdown",
   "metadata": {
    "id": "kdZZvk9rxNwk"
   },
   "source": [
    "# Supply Network Design 1\n",
    "\n",
    "## Objective and Prerequisites\n",
    "\n",
    "Try this Jupyter Notebook Modeling Example to learn how to solve a classic supply network design problem that involves finding the minimum cost flow through a network. We’ll show you how – given a set of factories, depots, and customers – you can use mathematical optimization to determine the best way to satisfy customer demand while minimizing shipping costs.\n",
    "\n",
    "This model is example 19 from the fifth edition of Model Building in Mathematical Programming, by H. Paul Williams on pages 273-275 and 330-332.\n",
    "\n",
    "This example is of beginning difficulty; we assume that you know Python and have some knowledge of the Gurobi Python API and building mathematical optimization models.\n",
    "\n",
    "**Download the Repository** <br />\n",
    "You can download the repository containing this and other examples by clicking [here](https://github.com/Gurobi/modeling-examples/archive/master.zip).\n",
    "\n",
    "---\n",
    "## Problem Description\n",
    "\n",
    "In this problem, we have six end customers, each with a known demand for a product.  Customer demand can be satisfied from a set of four depots, or directly from a set of two factories.  Each depot can support a maximum volume of product moving through it, and each factory can produce a maximum amount of product.  There are known costs associated with transporting the product, from a factory to a depot, from a depot to a customer, or from a factory directly to a customer.\n",
    "\n",
    "Our supply network has two factories, in Liverpool and Brighton, that produce a product.  Each has a maximum production capacity:\n",
    "\n",
    "| Factory | Supply (tons) |\n",
    "| --- | --- |\n",
    "| Liverpool | 150,000 |\n",
    "| Brighton |  200,000 |\n",
    "\n",
    "The product can be shipped from a factory to a set of four depots.  Each depot has a maximum throughput.  Depots don't produce or consume the product; they simply pass the product on to customers.\n",
    "\n",
    "| Depot | Throughput (tons) |\n",
    "| --- | --- |\n",
    "| Newcastle | 70,000 |\n",
    "| Birmingham | 50,000 |\n",
    "| London | 100,000 |\n",
    "| Exeter | 40,000 |\n",
    "\n",
    "Our network has six customers, each with a given demand.\n",
    "\n",
    "| Customer | Demand (tons) |\n",
    "| --- | --- |\n",
    "| C1 | 50,000 |\n",
    "| C2 | 10,000 |\n",
    "| C3 | 40,000 |\n",
    "| C4 | 35,000 |\n",
    "| C5 | 60,000 |\n",
    "| C6 | 20,000 |\n",
    "\n",
    "Shipping costs are given in the following table (in dollars per ton).  Columns are source cities and rows are destination cities.  Thus, for example, it costs $1 per ton to ship the product from Liverpool to London.  A '-' in the table indicates that that combination is not possible, so for example it is not possible to ship from the factory in Brighton to the depot in Newcastle.\n",
    "\n",
    "| To | Liverpool | Brighton | Newcastle | Birmingham | London | Exeter |\n",
    "| --- | --- | --- | --- | --- | --- | --- |\n",
    "| Depots |\n",
    "| Newcastle  | 0.5 |   - |\n",
    "| Birmingham | 0.5 | 0.3 |\n",
    "| London     | 1.0 | 0.5 |\n",
    "| Exeter     | 0.2 | 0.2 |\n",
    "| Customers |\n",
    "| C1 | 1.0 | 2.0 |   - | 1.0 |   - |   - |\n",
    "| C2 |   - |   - | 1.5 | 0.5 | 1.5 |   - |\n",
    "| C3 | 1.5 |   - | 0.5 | 0.5 | 2.0 | 0.2 |\n",
    "| C4 | 2.0 |   - | 1.5 | 1.0 |   - | 1.5 |\n",
    "| C5 |   - |   - |   - | 0.5 | 0.5 | 0.5 |\n",
    "| C6 | 1.0 |   - | 1.0 |   - | 1.5 | 1.5 |\n",
    "\n",
    "The question to be answered is how to satisfy the demands of the end customers while minimizing shipping costs.\n",
    "\n",
    "---\n",
    "## Model Formulation\n",
    "\n",
    "### Sets and Indices\n",
    "\n",
    "$f \\in \\text{Factories}=\\{\\text{Liverpool}, \\text{Brighton}\\}$\n",
    "\n",
    "$d \\in \\text{Depots}=\\{\\text{Newcastle}, \\text{Birmingham}, \\text{London}, \\text{Exeter}\\}$\n",
    "\n",
    "$c \\in \\text{Customers}=\\{\\text{C1}, \\text{C2}, \\text{C3}, \\text{C4}, \\text{C5}, \\text{C6}\\}$\n",
    "\n",
    "$\\text{Cities} = \\text{Factories} \\cup \\text{Depots} \\cup \\text{Customers}$\n",
    "\n",
    "### Parameters\n",
    "\n",
    "$\\text{cost} \\in \\mathbb{R}^+$: Cost of shipping one ton from source $s$ to destination $t$.\n",
    "\n",
    "$\\text{supply}_f \\in \\mathbb{R}^+$: Maximum possible supply from factory $f$ (in tons).\n",
    "\n",
    "$\\text{through}_d \\in \\mathbb{R}^+$: Maximum possible flow through depot $d$ (in tons).\n",
    "\n",
    "$\\text{demand}_c \\in \\mathbb{R}^+$: Demand for goods at customer $c$ (in tons).\n",
    "\n",
    "### Decision Variables\n",
    "\n",
    "$\\text{flow}_{s,t} \\in \\mathbb{N}^+$: Quantity of goods (in tons) that is shipped from source $s$ to destionation $t$.\n",
    "\n",
    "\n",
    "### Objective Function\n",
    "\n",
    "- **Cost**: Minimize total shipping costs.\n",
    "\n",
    "\\begin{equation}\n",
    "\\text{Minimize} \\quad Z = \\sum_{f,d}{\\text{c}_{fd}\\text{x}_{fd}}+\n",
    "                           \\sum_{f,c}{\\text{d}_{fc}\\text{y}_{fc}}+\n",
    "                           \\sum_{d,c}{\\text{e}_{dc}\\text{z}_{dc}}\n",
    "\\end{equation}\n",
    "\n",
    "### Constraints\n",
    "\n",
    "- **Factory capacities**: \n",
    "\n",
    "\\begin{equation}\n",
    "\\sum_{d \\in \\text{Depots}}{\\text{x}_{fd}}+\\sum_{c \\in \\text{Customers}}{\\text{y}_{fc}}\\leq \\text{C}_{f}\\quad \\forall f \\in \\text{Factories}\n",
    "\\end{equation}\n",
    "\n",
    "- **Quantity into Depots**: \n",
    "\n",
    "\\begin{equation}\n",
    "\\sum_{f \\in \\text{Factories}}{\\text{x}_{fd}} \\leq \\text{C}_{d} \\quad \\forall d \\in \\text{Depots}\n",
    "\\end{equation}\n",
    "\n",
    "- **Quantity out of Depots**: \n",
    "\n",
    "\\begin{equation}\n",
    "\\sum_{f \\in \\text{Factories}}{\\text{x}_{fd}} =\n",
    "\\sum_{c \\in \\text{Customers}}{\\text{z}_{dc}}\n",
    "\\quad \\forall d \\in \\text{Depots}\n",
    "\\end{equation}\n",
    "\n",
    "- **Customer Demand**: \n",
    "\n",
    "\\begin{equation}\n",
    "\\sum_{f \\in \\text{Factories}}{\\text{y}_{fc}} + \\sum_{d \\in \\text{Depots}}{\\text{z}_{dc}}= \\text{D}_{c}\n",
    "\\quad \\forall c \\in \\text{Customers}\n",
    "\\end{equation}\n",
    "\n",
    "---\n",
    "## Python Implementation\n",
    "\n",
    "We import the Gurobi Python Module and other Python libraries."
   ]
  },
  {
   "cell_type": "markdown",
   "metadata": {
    "id": "V8IlaoxaxNwm"
   },
   "source": [
    "![](SC-Network-I.png)"
   ]
  },
  {
   "cell_type": "code",
   "execution_count": 1,
   "metadata": {
    "id": "T-UnoOpyxNwm"
   },
   "outputs": [],
   "source": [
    "import pandas as pd\n",
    "import gurobipy as gp\n",
    "from gurobipy import GRB"
   ]
  },
  {
   "cell_type": "code",
   "execution_count": 2,
   "metadata": {},
   "outputs": [],
   "source": [
    "# Sets Factories (F), Depots (D), and Customers (C)\n",
    "# When we code sets we can be more descriptive in the name\n",
    "factories = ['Liverpool', 'Brighton']\n",
    "depots = ['Newcastle', 'Birmingham', 'London', 'Exeter']\n",
    "customers = ['C1', 'C2', 'C3', 'C4', 'C5', 'C6']"
   ]
  },
  {
   "cell_type": "code",
   "execution_count": 3,
   "metadata": {
    "scrolled": true
   },
   "outputs": [
    {
     "name": "stdout",
     "output_type": "stream",
     "text": [
      "Set parameter Username\n",
      "Academic license - for non-commercial use only - expires 2025-04-29\n"
     ]
    }
   ],
   "source": [
    "# Define a gurobipy model for the decision problem\n",
    "m = gp.Model('SCND-I')"
   ]
  },
  {
   "cell_type": "markdown",
   "metadata": {},
   "source": [
    "## Parameters\n",
    "\n",
    "Parameters of a math optimization problem are values treated as constants in the model and are associated with the decision variables. For this decision problem these values are the limits of each production facility, the demand for each distribution center, and the pairwise costs between production and distribution locations.\n",
    "\n",
    "- $C_f$ is the max production capcity (in tons) of a factory at location $f$, $\\forall f \\in F \\quad\\quad\\quad\\quad\\quad\\quad\\quad\\quad\\quad\\space\\space \\texttt{fatory}\\_\\texttt{capacity[f]}$\n",
    "- $C_d$ is the maximum possible flow through depot capcity (in tons) in location $d$, $\\forall d \\in D \\quad\\quad\\quad\\quad\\quad\\quad \\texttt{depot}\\_\\texttt{capacity[d]}$\n",
    "- $D_c$ is the demand for goods (in tons) by the customer in location $c$, $\\forall c \\in C\n",
    "\\quad\\quad\\quad\\quad\\quad\\quad\\quad\\quad\\quad\\space\\space \\texttt{customer}\\_\\texttt{demand[c]}$\n",
    "- $c_{f,d}$ is the cost to ship between location $f$ and location $d$, $\\forall f \\in F, d \\in D \\quad\\quad\\quad \\texttt{cost[f,d]}$\n",
    "- $d_{f,c}$ is the cost to ship between location $f$ and location $c$, $\\forall f \\in F, c \\in C \\quad\\quad\\quad \\texttt{cost[f,c]}$\n",
    "- $e_{d,c}$ is the cost to ship between location $d$ and location $c$, $\\forall d \\in D, c \\in C \\quad\\quad\\quad \\texttt{cost[d,c]}$"
   ]
  },
  {
   "cell_type": "code",
   "execution_count": 4,
   "metadata": {},
   "outputs": [
    {
     "data": {
      "text/html": [
       "<div>\n",
       "<style scoped>\n",
       "    .dataframe tbody tr th:only-of-type {\n",
       "        vertical-align: middle;\n",
       "    }\n",
       "\n",
       "    .dataframe tbody tr th {\n",
       "        vertical-align: top;\n",
       "    }\n",
       "\n",
       "    .dataframe thead th {\n",
       "        text-align: right;\n",
       "    }\n",
       "</style>\n",
       "<table border=\"1\" class=\"dataframe\">\n",
       "  <thead>\n",
       "    <tr style=\"text-align: right;\">\n",
       "      <th></th>\n",
       "      <th>factory_capacity</th>\n",
       "    </tr>\n",
       "  </thead>\n",
       "  <tbody>\n",
       "    <tr>\n",
       "      <th>Liverpool</th>\n",
       "      <td>150000</td>\n",
       "    </tr>\n",
       "    <tr>\n",
       "      <th>Brighton</th>\n",
       "      <td>200000</td>\n",
       "    </tr>\n",
       "  </tbody>\n",
       "</table>\n",
       "</div>"
      ],
      "text/plain": [
       "           factory_capacity\n",
       "Liverpool            150000\n",
       "Brighton             200000"
      ]
     },
     "execution_count": 4,
     "metadata": {},
     "output_type": "execute_result"
    }
   ],
   "source": [
    "factory_capacity = pd.Series([150000, 200000], index = factories, name = \"factory_capacity\")\n",
    "factory_capacity.to_frame()\n",
    "#factory_capacity"
   ]
  },
  {
   "cell_type": "code",
   "execution_count": 5,
   "metadata": {},
   "outputs": [
    {
     "data": {
      "text/html": [
       "<div>\n",
       "<style scoped>\n",
       "    .dataframe tbody tr th:only-of-type {\n",
       "        vertical-align: middle;\n",
       "    }\n",
       "\n",
       "    .dataframe tbody tr th {\n",
       "        vertical-align: top;\n",
       "    }\n",
       "\n",
       "    .dataframe thead th {\n",
       "        text-align: right;\n",
       "    }\n",
       "</style>\n",
       "<table border=\"1\" class=\"dataframe\">\n",
       "  <thead>\n",
       "    <tr style=\"text-align: right;\">\n",
       "      <th></th>\n",
       "      <th>depot_capacity</th>\n",
       "    </tr>\n",
       "  </thead>\n",
       "  <tbody>\n",
       "    <tr>\n",
       "      <th>Newcastle</th>\n",
       "      <td>70000</td>\n",
       "    </tr>\n",
       "    <tr>\n",
       "      <th>Birmingham</th>\n",
       "      <td>50000</td>\n",
       "    </tr>\n",
       "    <tr>\n",
       "      <th>London</th>\n",
       "      <td>100000</td>\n",
       "    </tr>\n",
       "    <tr>\n",
       "      <th>Exeter</th>\n",
       "      <td>40000</td>\n",
       "    </tr>\n",
       "  </tbody>\n",
       "</table>\n",
       "</div>"
      ],
      "text/plain": [
       "            depot_capacity\n",
       "Newcastle            70000\n",
       "Birmingham           50000\n",
       "London              100000\n",
       "Exeter               40000"
      ]
     },
     "execution_count": 5,
     "metadata": {},
     "output_type": "execute_result"
    }
   ],
   "source": [
    "depot_capcity = pd.Series([70000, 50000, 100000, 40000], index = depots, name = \"depot_capacity\")\n",
    "depot_capcity.to_frame()\n",
    "#depot_capcity"
   ]
  },
  {
   "cell_type": "code",
   "execution_count": 6,
   "metadata": {},
   "outputs": [
    {
     "data": {
      "text/html": [
       "<div>\n",
       "<style scoped>\n",
       "    .dataframe tbody tr th:only-of-type {\n",
       "        vertical-align: middle;\n",
       "    }\n",
       "\n",
       "    .dataframe tbody tr th {\n",
       "        vertical-align: top;\n",
       "    }\n",
       "\n",
       "    .dataframe thead th {\n",
       "        text-align: right;\n",
       "    }\n",
       "</style>\n",
       "<table border=\"1\" class=\"dataframe\">\n",
       "  <thead>\n",
       "    <tr style=\"text-align: right;\">\n",
       "      <th></th>\n",
       "      <th>customer_demand</th>\n",
       "    </tr>\n",
       "  </thead>\n",
       "  <tbody>\n",
       "    <tr>\n",
       "      <th>C1</th>\n",
       "      <td>50000</td>\n",
       "    </tr>\n",
       "    <tr>\n",
       "      <th>C2</th>\n",
       "      <td>10000</td>\n",
       "    </tr>\n",
       "    <tr>\n",
       "      <th>C3</th>\n",
       "      <td>40000</td>\n",
       "    </tr>\n",
       "    <tr>\n",
       "      <th>C4</th>\n",
       "      <td>35000</td>\n",
       "    </tr>\n",
       "    <tr>\n",
       "      <th>C5</th>\n",
       "      <td>60000</td>\n",
       "    </tr>\n",
       "    <tr>\n",
       "      <th>C6</th>\n",
       "      <td>20000</td>\n",
       "    </tr>\n",
       "  </tbody>\n",
       "</table>\n",
       "</div>"
      ],
      "text/plain": [
       "    customer_demand\n",
       "C1            50000\n",
       "C2            10000\n",
       "C3            40000\n",
       "C4            35000\n",
       "C5            60000\n",
       "C6            20000"
      ]
     },
     "execution_count": 6,
     "metadata": {},
     "output_type": "execute_result"
    }
   ],
   "source": [
    "customer_demand = pd.Series([50000,10000,40000,35000,60000,20000], index = customers, name = 'customer_demand')\n",
    "customer_demand.to_frame()\n",
    "#customer_demand "
   ]
  },
  {
   "cell_type": "code",
   "execution_count": 7,
   "metadata": {},
   "outputs": [
    {
     "data": {
      "text/plain": [
       "factories  depots    \n",
       "Liverpool  Newcastle        0.5\n",
       "           Birmingham       0.5\n",
       "           London           1.0\n",
       "           Exeter           0.2\n",
       "Brighton   Newcastle     1000.0\n",
       "           Birmingham       0.3\n",
       "           London           0.5\n",
       "           Exeter           0.2\n",
       "Name: cost, dtype: float64"
      ]
     },
     "execution_count": 7,
     "metadata": {},
     "output_type": "execute_result"
    }
   ],
   "source": [
    "# Read transportation cost data between factory and depot\n",
    "data = pd.read_csv('../fd_cost.csv', index_col=[0,1])\n",
    "\n",
    "# Use squeeze=True to make the costs a series\n",
    "trans_fd_cost = data.squeeze()\n",
    "trans_fd_cost"
   ]
  },
  {
   "cell_type": "code",
   "execution_count": 8,
   "metadata": {},
   "outputs": [
    {
     "data": {
      "text/plain": [
       "factories  customers\n",
       "Liverpool  C1              1.0\n",
       "           C2           1000.0\n",
       "           C3              1.5\n",
       "           C4              2.0\n",
       "           C5           1000.0\n",
       "           C6              1.0\n",
       "Brighton   C1              2.0\n",
       "           C2           1000.0\n",
       "           C3           1000.0\n",
       "           C4           1000.0\n",
       "           C5           1000.0\n",
       "           C6           1000.0\n",
       "Name: cost, dtype: float64"
      ]
     },
     "execution_count": 8,
     "metadata": {},
     "output_type": "execute_result"
    }
   ],
   "source": [
    "# Read transportation cost data between factory and customer\n",
    "data = pd.read_csv('../fc_cost.csv', index_col=[0,1])\n",
    "\n",
    "# Use squeeze=True to make the costs a series\n",
    "trans_fc_cost = data.squeeze()\n",
    "trans_fc_cost"
   ]
  },
  {
   "cell_type": "code",
   "execution_count": 9,
   "metadata": {},
   "outputs": [
    {
     "data": {
      "text/plain": [
       "depots      customers\n",
       "Newcastle   C1           1000.0\n",
       "            C2              1.5\n",
       "            C3              0.5\n",
       "            C4              1.5\n",
       "            C5           1000.0\n",
       "            C6              1.0\n",
       "Birmingham  C1              1.0\n",
       "            C2              0.5\n",
       "            C3              0.5\n",
       "            C4              1.0\n",
       "            C5              0.5\n",
       "            C6           1000.0\n",
       "London      C1           1000.0\n",
       "            C2              1.5\n",
       "            C3              2.0\n",
       "            C4           1000.0\n",
       "            C5              0.5\n",
       "            C6              1.5\n",
       "Exeter      C1           1000.0\n",
       "            C2           1000.0\n",
       "            C3              0.2\n",
       "            C4              1.5\n",
       "            C5              0.5\n",
       "            C6              1.5\n",
       "Name: cost, dtype: float64"
      ]
     },
     "execution_count": 9,
     "metadata": {},
     "output_type": "execute_result"
    }
   ],
   "source": [
    "# Read transportation cost data between depot and customer\n",
    "data = pd.read_csv('../dc_cost.csv', index_col=[0,1])\n",
    "\n",
    "# Use squeeze=True to make the costs a series\n",
    "trans_dc_cost = data.squeeze()\n",
    "trans_dc_cost"
   ]
  },
  {
   "cell_type": "markdown",
   "metadata": {
    "id": "y5iOu4asxNwn"
   },
   "source": [
    "## Input Data\n",
    "We define all the input data for the model."
   ]
  },
  {
   "cell_type": "markdown",
   "metadata": {},
   "source": [
    "## Decision Variables\n",
    "$x_{f,d} =$ quantity sent from factory $f$ to depot $d$ $\\qquad\\qquad$ $f=1,2, \\qquad d=1,2,3,4$\n",
    "\n",
    "$y_{f,c} =$ quantity sent from factory $f$ to customer $c$ $\\qquad\\qquad$ $f=1,2, \\qquad c=1,2,3,4,5,6$\n",
    "\n",
    "$z_{d,c} =$ quantity sent from depot $d$ to customer $c$ $\\qquad\\qquad$ $d=1,2,3,4, \\qquad c=1,2,3,4,5,6$"
   ]
  },
  {
   "cell_type": "code",
   "execution_count": 10,
   "metadata": {},
   "outputs": [
    {
     "data": {
      "text/plain": [
       "{('Liverpool', 'Newcastle'): <gurobi.Var Liverpool_to_Newcastle>,\n",
       " ('Liverpool', 'Birmingham'): <gurobi.Var Liverpool_to_Birmingham>,\n",
       " ('Liverpool', 'London'): <gurobi.Var Liverpool_to_London>,\n",
       " ('Liverpool', 'Exeter'): <gurobi.Var Liverpool_to_Exeter>,\n",
       " ('Brighton', 'Newcastle'): <gurobi.Var Brighton_to_Newcastle>,\n",
       " ('Brighton', 'Birmingham'): <gurobi.Var Brighton_to_Birmingham>,\n",
       " ('Brighton', 'London'): <gurobi.Var Brighton_to_London>,\n",
       " ('Brighton', 'Exeter'): <gurobi.Var Brighton_to_Exeter>}"
      ]
     },
     "execution_count": 10,
     "metadata": {},
     "output_type": "execute_result"
    }
   ],
   "source": [
    "# First method\n",
    "# Loop through each f and d combination to create a decision variable\n",
    "x = {}\n",
    "for f in factories:\n",
    "    for d in depots:\n",
    "        x[f,d] = m.addVar(name = f+\"_to_\"+d)\n",
    "m.update()\n",
    "x"
   ]
  },
  {
   "cell_type": "markdown",
   "metadata": {},
   "source": [
    "$y_{f,c} =$ quantity sent from factory $f$ to customer $c$ $\\qquad\\qquad$ $f=1,2, \\qquad c=1,2,3,4,5,6$"
   ]
  },
  {
   "cell_type": "code",
   "execution_count": 11,
   "metadata": {},
   "outputs": [
    {
     "data": {
      "text/plain": [
       "{('Liverpool', 'C1'): <gurobi.Var factory_to_cust[Liverpool,C1]>,\n",
       " ('Liverpool', 'C2'): <gurobi.Var factory_to_cust[Liverpool,C2]>,\n",
       " ('Liverpool', 'C3'): <gurobi.Var factory_to_cust[Liverpool,C3]>,\n",
       " ('Liverpool', 'C4'): <gurobi.Var factory_to_cust[Liverpool,C4]>,\n",
       " ('Liverpool', 'C5'): <gurobi.Var factory_to_cust[Liverpool,C5]>,\n",
       " ('Liverpool', 'C6'): <gurobi.Var factory_to_cust[Liverpool,C6]>,\n",
       " ('Brighton', 'C1'): <gurobi.Var factory_to_cust[Brighton,C1]>,\n",
       " ('Brighton', 'C2'): <gurobi.Var factory_to_cust[Brighton,C2]>,\n",
       " ('Brighton', 'C3'): <gurobi.Var factory_to_cust[Brighton,C3]>,\n",
       " ('Brighton', 'C4'): <gurobi.Var factory_to_cust[Brighton,C4]>,\n",
       " ('Brighton', 'C5'): <gurobi.Var factory_to_cust[Brighton,C5]>,\n",
       " ('Brighton', 'C6'): <gurobi.Var factory_to_cust[Brighton,C6]>}"
      ]
     },
     "execution_count": 11,
     "metadata": {},
     "output_type": "execute_result"
    }
   ],
   "source": [
    "# Second method\n",
    "# Provide each set for the indices\n",
    "y = m.addVars(factories, customers, name = \"factory_to_cust\")\n",
    "m.update()\n",
    "y"
   ]
  },
  {
   "cell_type": "markdown",
   "metadata": {},
   "source": [
    "$z_{d,c} =$ quantity sent from depot $d$ to customer $c$ $\\qquad\\qquad$ $d=1,2,3,4, \\qquad c=1,2,3,4,5,6$"
   ]
  },
  {
   "cell_type": "code",
   "execution_count": 12,
   "metadata": {},
   "outputs": [
    {
     "data": {
      "text/plain": [
       "{('Newcastle', 'C1'): <gurobi.Var depot_to_cust[Newcastle,C1]>,\n",
       " ('Newcastle', 'C2'): <gurobi.Var depot_to_cust[Newcastle,C2]>,\n",
       " ('Newcastle', 'C3'): <gurobi.Var depot_to_cust[Newcastle,C3]>,\n",
       " ('Newcastle', 'C4'): <gurobi.Var depot_to_cust[Newcastle,C4]>,\n",
       " ('Newcastle', 'C5'): <gurobi.Var depot_to_cust[Newcastle,C5]>,\n",
       " ('Newcastle', 'C6'): <gurobi.Var depot_to_cust[Newcastle,C6]>,\n",
       " ('Birmingham', 'C1'): <gurobi.Var depot_to_cust[Birmingham,C1]>,\n",
       " ('Birmingham', 'C2'): <gurobi.Var depot_to_cust[Birmingham,C2]>,\n",
       " ('Birmingham', 'C3'): <gurobi.Var depot_to_cust[Birmingham,C3]>,\n",
       " ('Birmingham', 'C4'): <gurobi.Var depot_to_cust[Birmingham,C4]>,\n",
       " ('Birmingham', 'C5'): <gurobi.Var depot_to_cust[Birmingham,C5]>,\n",
       " ('Birmingham', 'C6'): <gurobi.Var depot_to_cust[Birmingham,C6]>,\n",
       " ('London', 'C1'): <gurobi.Var depot_to_cust[London,C1]>,\n",
       " ('London', 'C2'): <gurobi.Var depot_to_cust[London,C2]>,\n",
       " ('London', 'C3'): <gurobi.Var depot_to_cust[London,C3]>,\n",
       " ('London', 'C4'): <gurobi.Var depot_to_cust[London,C4]>,\n",
       " ('London', 'C5'): <gurobi.Var depot_to_cust[London,C5]>,\n",
       " ('London', 'C6'): <gurobi.Var depot_to_cust[London,C6]>,\n",
       " ('Exeter', 'C1'): <gurobi.Var depot_to_cust[Exeter,C1]>,\n",
       " ('Exeter', 'C2'): <gurobi.Var depot_to_cust[Exeter,C2]>,\n",
       " ('Exeter', 'C3'): <gurobi.Var depot_to_cust[Exeter,C3]>,\n",
       " ('Exeter', 'C4'): <gurobi.Var depot_to_cust[Exeter,C4]>,\n",
       " ('Exeter', 'C5'): <gurobi.Var depot_to_cust[Exeter,C5]>,\n",
       " ('Exeter', 'C6'): <gurobi.Var depot_to_cust[Exeter,C6]>}"
      ]
     },
     "execution_count": 12,
     "metadata": {},
     "output_type": "execute_result"
    }
   ],
   "source": [
    "# Third method\n",
    "# The index of the tranporation costs have each combination of depot and customer location\n",
    "z = m.addVars(trans_dc_cost.index, name = 'depot_to_cust')\n",
    "m.update()\n",
    "z"
   ]
  },
  {
   "cell_type": "markdown",
   "metadata": {},
   "source": [
    "## Constraints\n",
    "We outlined production and demand constraints at the beginning of this example; now we formulate and code them. Note that it doesn't matter the order in which constraints (and/or decision variables) are added to the model."
   ]
  },
  {
   "cell_type": "markdown",
   "metadata": {},
   "source": [
    "- **Factory capacities**: \n",
    "\n",
    "\\begin{equation}\n",
    "\\sum_{d \\in \\text{Depots}}{\\text{x}_{fd}}+\\sum_{c \\in \\text{Customers}}{\\text{y}_{fc}}\\leq \\text{C}_{f}\\quad \\forall f \\in \\text{Factories}\n",
    "\\end{equation}"
   ]
  },
  {
   "cell_type": "code",
   "execution_count": 13,
   "metadata": {},
   "outputs": [
    {
     "data": {
      "text/plain": [
       "{'Liverpool': <gurobi.Constr fac_cap[Liverpool]>,\n",
       " 'Brighton': <gurobi.Constr fac_cap[Brighton]>}"
      ]
     },
     "execution_count": 13,
     "metadata": {},
     "output_type": "execute_result"
    }
   ],
   "source": [
    "fac_cap = m.addConstrs((gp.quicksum(x[f,d] for d in depots) + gp.quicksum(y[f,c] for c in customers) <= factory_capacity[f] for f in factories), name = 'fac_cap')\n",
    "m.update()\n",
    "fac_cap"
   ]
  },
  {
   "cell_type": "markdown",
   "metadata": {},
   "source": [
    "- **Quantity into Depots**: \n",
    "\n",
    "\\begin{equation}\n",
    "\\sum_{f \\in \\text{Factories}}{\\text{x}_{fd}} \\leq \\text{C}_{d} \\quad \\forall d \\in \\text{Depots}\n",
    "\\end{equation}"
   ]
  },
  {
   "cell_type": "code",
   "execution_count": 14,
   "metadata": {},
   "outputs": [
    {
     "data": {
      "text/plain": [
       "{'Newcastle': <gurobi.Constr dep_cap[Newcastle]>,\n",
       " 'Birmingham': <gurobi.Constr dep_cap[Birmingham]>,\n",
       " 'London': <gurobi.Constr dep_cap[London]>,\n",
       " 'Exeter': <gurobi.Constr dep_cap[Exeter]>}"
      ]
     },
     "execution_count": 14,
     "metadata": {},
     "output_type": "execute_result"
    }
   ],
   "source": [
    "dep_cap = m.addConstrs((gp.quicksum(x[f,d] for f in factories) <= depot_capcity[d] for d in depots), name = 'dep_cap')\n",
    "m.update()\n",
    "dep_cap"
   ]
  },
  {
   "cell_type": "markdown",
   "metadata": {},
   "source": [
    "- **Quantity out of Depots**: \n",
    "\n",
    "\\begin{equation}\n",
    "\\sum_{f \\in \\text{Factories}}{\\text{x}_{fd}} =\n",
    "\\sum_{c \\in \\text{Customers}}{\\text{z}_{dc}}\n",
    "\\quad \\forall d \\in \\text{Depots}\n",
    "\\end{equation}"
   ]
  },
  {
   "cell_type": "code",
   "execution_count": 15,
   "metadata": {},
   "outputs": [
    {
     "data": {
      "text/plain": [
       "{'Newcastle': <gurobi.Constr dep_out[Newcastle]>,\n",
       " 'Birmingham': <gurobi.Constr dep_out[Birmingham]>,\n",
       " 'London': <gurobi.Constr dep_out[London]>,\n",
       " 'Exeter': <gurobi.Constr dep_out[Exeter]>}"
      ]
     },
     "execution_count": 15,
     "metadata": {},
     "output_type": "execute_result"
    }
   ],
   "source": [
    "dep_out = m.addConstrs((gp.quicksum(x[f,d] for f in factories) == gp.quicksum(z[d,c] for c in customers) for d in depots), name = 'dep_out')\n",
    "m.update()\n",
    "dep_out"
   ]
  },
  {
   "cell_type": "markdown",
   "metadata": {},
   "source": [
    "- **Customer Demand**: \n",
    "\n",
    "\\begin{equation}\n",
    "\\sum_{f \\in \\text{Factories}}{\\text{y}_{fc}} + \\sum_{d \\in \\text{Depots}}{\\text{z}_{dc}}= \\text{D}_{c}\n",
    "\\quad \\forall c \\in \\text{Customers}\n",
    "\\end{equation}"
   ]
  },
  {
   "cell_type": "code",
   "execution_count": 16,
   "metadata": {},
   "outputs": [
    {
     "data": {
      "text/plain": [
       "{'C1': <gurobi.Constr cus_demand[C1]>,\n",
       " 'C2': <gurobi.Constr cus_demand[C2]>,\n",
       " 'C3': <gurobi.Constr cus_demand[C3]>,\n",
       " 'C4': <gurobi.Constr cus_demand[C4]>,\n",
       " 'C5': <gurobi.Constr cus_demand[C5]>,\n",
       " 'C6': <gurobi.Constr cus_demand[C6]>}"
      ]
     },
     "execution_count": 16,
     "metadata": {},
     "output_type": "execute_result"
    }
   ],
   "source": [
    "cus_demand = m.addConstrs((gp.quicksum(y[f,c] for f in factories) + gp.quicksum(z[d,c] for d in depots) == customer_demand[c] for c in customers), name = 'cus_demand')\n",
    "m.update()\n",
    "cus_demand"
   ]
  },
  {
   "cell_type": "markdown",
   "metadata": {},
   "source": [
    "### Objective Function\n",
    "\n",
    "- **Cost**: Minimize total shipping costs.\n",
    "\n",
    "\\begin{equation}\n",
    "\\text{Minimize} \\quad Z = \\sum_{f,d}{\\text{c}_{fd}\\text{x}_{fd}}+\n",
    "                           \\sum_{f,c}{\\text{d}_{fc}\\text{y}_{fc}}+\n",
    "                           \\sum_{d,c}{\\text{e}_{dc}\\text{z}_{dc}}\n",
    "\\end{equation}"
   ]
  },
  {
   "cell_type": "code",
   "execution_count": 17,
   "metadata": {},
   "outputs": [],
   "source": [
    "m.setObjective(gp.quicksum(trans_fd_cost[f,d]*x[f,d] for f in factories for d in depots)+gp.quicksum(trans_fc_cost[f,c]*y[f,c] for f in factories for c in customers)+gp.quicksum(trans_dc_cost[d,c]*z[d,c] for d in depots for c in customers), GRB.MINIMIZE)\n"
   ]
  },
  {
   "cell_type": "markdown",
   "metadata": {},
   "source": [
    "## Find, Extract, and Analyze the Solution\n",
    "Before running the optimization, it is a good idea to write an `lp` file. This is a text file that prints out the variables, constraints, and object like we would see in the *formulation*, just without the summation symbols and using the names we designated."
   ]
  },
  {
   "cell_type": "code",
   "execution_count": 18,
   "metadata": {
    "scrolled": true
   },
   "outputs": [
    {
     "name": "stdout",
     "output_type": "stream",
     "text": [
      "Gurobi Optimizer version 11.0.1 build v11.0.1rc0 (linux64 - \"Linux Mint 21.3\")\n",
      "\n",
      "CPU model: AMD Ryzen 5 5600G with Radeon Graphics, instruction set [SSE2|AVX|AVX2]\n",
      "Thread count: 6 physical cores, 12 logical processors, using up to 12 threads\n",
      "\n",
      "Optimize a model with 16 rows, 44 columns and 96 nonzeros\n",
      "Model fingerprint: 0xe073b711\n",
      "Coefficient statistics:\n",
      "  Matrix range     [1e+00, 1e+00]\n",
      "  Objective range  [2e-01, 1e+03]\n",
      "  Bounds range     [0e+00, 0e+00]\n",
      "  RHS range        [1e+04, 2e+05]\n",
      "Presolve time: 0.00s\n",
      "Presolved: 16 rows, 44 columns, 96 nonzeros\n",
      "\n",
      "Iteration    Objective       Primal Inf.    Dual Inf.      Time\n",
      "       0    1.4800000e+05   1.450000e+05   0.000000e+00      0s\n",
      "       6    1.9850000e+05   0.000000e+00   0.000000e+00      0s\n",
      "\n",
      "Solved in 6 iterations and 0.01 seconds (0.00 work units)\n",
      "Optimal objective  1.985000000e+05\n"
     ]
    }
   ],
   "source": [
    "m.optimize()"
   ]
  },
  {
   "cell_type": "code",
   "execution_count": 19,
   "metadata": {},
   "outputs": [
    {
     "data": {
      "text/plain": [
       "{'Liverpool_to_Newcastle': 0.0,\n",
       " 'Liverpool_to_Birmingham': 0.0,\n",
       " 'Liverpool_to_London': 0.0,\n",
       " 'Liverpool_to_Exeter': 40000.0,\n",
       " 'Brighton_to_Newcastle': 0.0,\n",
       " 'Brighton_to_Birmingham': 50000.0,\n",
       " 'Brighton_to_London': 55000.0,\n",
       " 'Brighton_to_Exeter': 0.0,\n",
       " 'factory_to_cust[Liverpool,C1]': 50000.0,\n",
       " 'factory_to_cust[Liverpool,C2]': 0.0,\n",
       " 'factory_to_cust[Liverpool,C3]': 0.0,\n",
       " 'factory_to_cust[Liverpool,C4]': 0.0,\n",
       " 'factory_to_cust[Liverpool,C5]': 0.0,\n",
       " 'factory_to_cust[Liverpool,C6]': 20000.0,\n",
       " 'factory_to_cust[Brighton,C1]': 0.0,\n",
       " 'factory_to_cust[Brighton,C2]': 0.0,\n",
       " 'factory_to_cust[Brighton,C3]': 0.0,\n",
       " 'factory_to_cust[Brighton,C4]': 0.0,\n",
       " 'factory_to_cust[Brighton,C5]': 0.0,\n",
       " 'factory_to_cust[Brighton,C6]': 0.0,\n",
       " 'depot_to_cust[Newcastle,C1]': 0.0,\n",
       " 'depot_to_cust[Newcastle,C2]': 0.0,\n",
       " 'depot_to_cust[Newcastle,C3]': 0.0,\n",
       " 'depot_to_cust[Newcastle,C4]': 0.0,\n",
       " 'depot_to_cust[Newcastle,C5]': 0.0,\n",
       " 'depot_to_cust[Newcastle,C6]': 0.0,\n",
       " 'depot_to_cust[Birmingham,C1]': 0.0,\n",
       " 'depot_to_cust[Birmingham,C2]': 10000.0,\n",
       " 'depot_to_cust[Birmingham,C3]': 0.0,\n",
       " 'depot_to_cust[Birmingham,C4]': 35000.0,\n",
       " 'depot_to_cust[Birmingham,C5]': 5000.0,\n",
       " 'depot_to_cust[Birmingham,C6]': 0.0,\n",
       " 'depot_to_cust[London,C1]': 0.0,\n",
       " 'depot_to_cust[London,C2]': 0.0,\n",
       " 'depot_to_cust[London,C3]': 0.0,\n",
       " 'depot_to_cust[London,C4]': 0.0,\n",
       " 'depot_to_cust[London,C5]': 55000.0,\n",
       " 'depot_to_cust[London,C6]': 0.0,\n",
       " 'depot_to_cust[Exeter,C1]': 0.0,\n",
       " 'depot_to_cust[Exeter,C2]': 0.0,\n",
       " 'depot_to_cust[Exeter,C3]': 40000.0,\n",
       " 'depot_to_cust[Exeter,C4]': 0.0,\n",
       " 'depot_to_cust[Exeter,C5]': 0.0,\n",
       " 'depot_to_cust[Exeter,C6]': 0.0}"
      ]
     },
     "execution_count": 19,
     "metadata": {},
     "output_type": "execute_result"
    }
   ],
   "source": [
    "# You can get the name and value of all the decision variables:\n",
    "all_vars = {v.varName: v.x for v in m.getVars()}\n",
    "all_vars"
   ]
  },
  {
   "cell_type": "code",
   "execution_count": 22,
   "metadata": {},
   "outputs": [
    {
     "name": "stdout",
     "output_type": "stream",
     "text": [
      "Liverpool_to_Newcastle 0\n",
      "Liverpool_to_Birmingham 0\n",
      "Liverpool_to_London 0\n",
      "Liverpool_to_Exeter 40000\n",
      "Brighton_to_Newcastle 0\n",
      "Brighton_to_Birmingham 50000\n",
      "Brighton_to_London 55000\n",
      "Brighton_to_Exeter 0\n",
      "factory_to_cust[Liverpool,C1] 50000\n",
      "factory_to_cust[Liverpool,C2] 0\n",
      "factory_to_cust[Liverpool,C3] 0\n",
      "factory_to_cust[Liverpool,C4] 0\n",
      "factory_to_cust[Liverpool,C5] 0\n",
      "factory_to_cust[Liverpool,C6] 20000\n",
      "factory_to_cust[Brighton,C1] 0\n",
      "factory_to_cust[Brighton,C2] 0\n",
      "factory_to_cust[Brighton,C3] 0\n",
      "factory_to_cust[Brighton,C4] 0\n",
      "factory_to_cust[Brighton,C5] 0\n",
      "factory_to_cust[Brighton,C6] 0\n",
      "depot_to_cust[Newcastle,C1] 0\n",
      "depot_to_cust[Newcastle,C2] 0\n",
      "depot_to_cust[Newcastle,C3] 0\n",
      "depot_to_cust[Newcastle,C4] 0\n",
      "depot_to_cust[Newcastle,C5] 0\n",
      "depot_to_cust[Newcastle,C6] 0\n",
      "depot_to_cust[Birmingham,C1] 0\n",
      "depot_to_cust[Birmingham,C2] 10000\n",
      "depot_to_cust[Birmingham,C3] 0\n",
      "depot_to_cust[Birmingham,C4] 35000\n",
      "depot_to_cust[Birmingham,C5] 5000\n",
      "depot_to_cust[Birmingham,C6] 0\n",
      "depot_to_cust[London,C1] 0\n",
      "depot_to_cust[London,C2] 0\n",
      "depot_to_cust[London,C3] 0\n",
      "depot_to_cust[London,C4] 0\n",
      "depot_to_cust[London,C5] 55000\n",
      "depot_to_cust[London,C6] 0\n",
      "depot_to_cust[Exeter,C1] 0\n",
      "depot_to_cust[Exeter,C2] 0\n",
      "depot_to_cust[Exeter,C3] 40000\n",
      "depot_to_cust[Exeter,C4] 0\n",
      "depot_to_cust[Exeter,C5] 0\n",
      "depot_to_cust[Exeter,C6] 0\n",
      "Objective Function: 198500\n"
     ]
    }
   ],
   "source": [
    "for v in m.getVars():\n",
    "    print(f\"{v.VarName} {v.X:g}\")\n",
    "\n",
    "print(f\"Objective Function: {m.ObjVal:g}\")"
   ]
  },
  {
   "cell_type": "markdown",
   "metadata": {
    "id": "6JCvCBMDxNws"
   },
   "source": [
    "---\n",
    "## References\n",
    "\n",
    "H. Paul Williams, Model Building in Mathematical Programming, fifth edition.\n",
    "\n",
    "Copyright © 2020 Gurobi Optimization, LLC"
   ]
  },
  {
   "cell_type": "code",
   "execution_count": null,
   "metadata": {
    "id": "OQ-oL5Y_xNwt"
   },
   "outputs": [],
   "source": []
  }
 ],
 "metadata": {
  "colab": {
   "include_colab_link": true,
   "provenance": []
  },
  "kernelspec": {
   "display_name": "Python 3 (ipykernel)",
   "language": "python",
   "name": "python3"
  },
  "language_info": {
   "codemirror_mode": {
    "name": "ipython",
    "version": 3
   },
   "file_extension": ".py",
   "mimetype": "text/x-python",
   "name": "python",
   "nbconvert_exporter": "python",
   "pygments_lexer": "ipython3",
   "version": "3.12.3"
  }
 },
 "nbformat": 4,
 "nbformat_minor": 1
}
