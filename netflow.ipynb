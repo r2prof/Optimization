{
 "cells": [
  {
   "cell_type": "markdown",
   "id": "dd37c901",
   "metadata": {},
   "source": [
    "### Mathematical Model for Multi-Commodity Flow Problem"
   ]
  },
  {
   "cell_type": "code",
   "execution_count": 3,
   "id": "4946fb77",
   "metadata": {},
   "outputs": [],
   "source": [
    "# Solve a multi-commodity flow problem.  Two products ('Pencils' and 'Pens') are produced in 2 cities \n",
    "# ('Detroit' and 'Denver') and must be sent to warehouses in 3 cities ('Boston', 'New York', and 'Seattle') \n",
    "# to satisfy supply/demand ('inflow[h,i]').\n",
    "\n",
    "# Flows on the transportation network must respect arc capacity constraints ('capacity[i,j]'). \n",
    "\n",
    "# The objective is to minimize the sum of the arc transportation costs ('cost[i,j]')."
   ]
  },
  {
   "cell_type": "code",
   "execution_count": 4,
   "id": "ebd7906c",
   "metadata": {},
   "outputs": [],
   "source": [
    " # First, import packages\n",
    "import pandas as pd\n",
    "from IPython.display import Image \n",
    "import gurobipy as gp\n",
    "from gurobipy import GRB\n",
    "\n",
    "# Define a gurobipy model for the decision problem\n",
    "m = gp.Model('netflow')"
   ]
  },
  {
   "cell_type": "markdown",
   "id": "9c1fbf48",
   "metadata": {},
   "source": [
    "### Data"
   ]
  },
  {
   "cell_type": "code",
   "execution_count": 5,
   "id": "82f91faf",
   "metadata": {},
   "outputs": [],
   "source": [
    "# Base data\n",
    "commodities = [\"Pencils\", \"Pens\"]\n",
    "nodes = [\"Detroit\", \"Denver\", \"Boston\", \"New York\", \"Seattle\"]\n",
    "\n",
    "arcs, capacity = gp.multidict(\n",
    "    {\n",
    "        (\"Detroit\", \"Boston\"): 100,\n",
    "        (\"Detroit\", \"New York\"): 80,\n",
    "        (\"Detroit\", \"Seattle\"): 120,\n",
    "        (\"Denver\", \"Boston\"): 120,\n",
    "        (\"Denver\", \"New York\"): 120,\n",
    "        (\"Denver\", \"Seattle\"): 120,\n",
    "    }\n",
    ")"
   ]
  },
  {
   "cell_type": "code",
   "execution_count": 6,
   "id": "27eb9b55",
   "metadata": {},
   "outputs": [],
   "source": [
    "# Cost for triplets commodity-source-destination\n",
    "cost = {\n",
    "    (\"Pencils\", \"Detroit\", \"Boston\"): 10,\n",
    "    (\"Pencils\", \"Detroit\", \"New York\"): 20,\n",
    "    (\"Pencils\", \"Detroit\", \"Seattle\"): 60,\n",
    "    (\"Pencils\", \"Denver\", \"Boston\"): 40,\n",
    "    (\"Pencils\", \"Denver\", \"New York\"): 40,\n",
    "    (\"Pencils\", \"Denver\", \"Seattle\"): 30,\n",
    "    (\"Pens\", \"Detroit\", \"Boston\"): 20,\n",
    "    (\"Pens\", \"Detroit\", \"New York\"): 20,\n",
    "    (\"Pens\", \"Detroit\", \"Seattle\"): 80,\n",
    "    (\"Pens\", \"Denver\", \"Boston\"): 60,\n",
    "    (\"Pens\", \"Denver\", \"New York\"): 70,\n",
    "    (\"Pens\", \"Denver\", \"Seattle\"): 30,\n",
    "}"
   ]
  },
  {
   "cell_type": "code",
   "execution_count": 7,
   "id": "a205197d",
   "metadata": {},
   "outputs": [],
   "source": [
    "# Supply (> 0) and demand (< 0) for pairs of commodity-city\n",
    "inflow = {\n",
    "    (\"Pencils\", \"Detroit\"): 50,\n",
    "    (\"Pencils\", \"Denver\"): 60,\n",
    "    (\"Pencils\", \"Boston\"): -50,\n",
    "    (\"Pencils\", \"New York\"): -50,\n",
    "    (\"Pencils\", \"Seattle\"): -10,\n",
    "    (\"Pens\", \"Detroit\"): 60,\n",
    "    (\"Pens\", \"Denver\"): 40,\n",
    "    (\"Pens\", \"Boston\"): -40,\n",
    "    (\"Pens\", \"New York\"): -30,\n",
    "    (\"Pens\", \"Seattle\"): -30,\n",
    "}\n",
    "\n",
    "# Total supply for pencils: Detroit(50) + Denver(60) = 110\n",
    "# Total supply for pens:    Detroit(60) + Denver(40) = 100\n",
    "\n",
    "# Total demand for pencils: Bostoon(50) + New York(50) + Seattle(10) = 110\n",
    "# Total demand for pens:    Bostoon(40) + New York(30) + Seattle(30) = 100"
   ]
  },
  {
   "cell_type": "markdown",
   "id": "89eaf09c",
   "metadata": {},
   "source": [
    "### Variables"
   ]
  },
  {
   "cell_type": "code",
   "execution_count": 8,
   "id": "968b969b",
   "metadata": {},
   "outputs": [],
   "source": [
    "# Create variables\n",
    "flow = m.addVars(commodities, arcs, obj=cost, name=\"flow\")\n",
    "\n",
    "# Alternate version 01:\n",
    "#flow = m.addVars(commodities, arcs, obj=cost, name=\"flow\")"
   ]
  },
  {
   "cell_type": "markdown",
   "id": "589cad98",
   "metadata": {},
   "source": [
    "### Constraints"
   ]
  },
  {
   "cell_type": "code",
   "execution_count": 9,
   "id": "967e0a45",
   "metadata": {},
   "outputs": [
    {
     "data": {
      "text/plain": [
       "{('Detroit', 'Boston'): <gurobi.Constr *Awaiting Model Update*>,\n",
       " ('Detroit', 'New York'): <gurobi.Constr *Awaiting Model Update*>,\n",
       " ('Detroit', 'Seattle'): <gurobi.Constr *Awaiting Model Update*>,\n",
       " ('Denver', 'Boston'): <gurobi.Constr *Awaiting Model Update*>,\n",
       " ('Denver', 'New York'): <gurobi.Constr *Awaiting Model Update*>,\n",
       " ('Denver', 'Seattle'): <gurobi.Constr *Awaiting Model Update*>}"
      ]
     },
     "execution_count": 9,
     "metadata": {},
     "output_type": "execute_result"
    }
   ],
   "source": [
    "# Arc capacity constraint\n",
    "c1 = m.addConstrs((gp.quicksum(flow[h, i, j] for h in commodities) <= capacity[i, j] for i,j in arcs))\n",
    "\n",
    "c1\n",
    "# Alternate version 01:\n",
    "#m.addConstrs((flow.sum(\"*\", i, j) <= capacity[i, j] for i, j in arcs), \"cap\")\n",
    "\n",
    "# Alternate version 02:\n",
    "# Equivalent version using Python looping\n",
    "# for i, j in arcs:\n",
    "#   m.addConstr(sum(flow[h, i, j] for h in commodities) <= capacity[i, j],\n",
    "#               \"cap[%s, %s]\" % (i, j))"
   ]
  },
  {
   "cell_type": "code",
   "execution_count": 10,
   "id": "51b3da7b",
   "metadata": {},
   "outputs": [
    {
     "data": {
      "text/plain": [
       "{('Pencils', 'Detroit'): <gurobi.Constr node[Pencils,Detroit]>,\n",
       " ('Pencils', 'Denver'): <gurobi.Constr node[Pencils,Denver]>,\n",
       " ('Pencils', 'Boston'): <gurobi.Constr node[Pencils,Boston]>,\n",
       " ('Pencils', 'New York'): <gurobi.Constr node[Pencils,New York]>,\n",
       " ('Pencils', 'Seattle'): <gurobi.Constr node[Pencils,Seattle]>,\n",
       " ('Pens', 'Detroit'): <gurobi.Constr node[Pens,Detroit]>,\n",
       " ('Pens', 'Denver'): <gurobi.Constr node[Pens,Denver]>,\n",
       " ('Pens', 'Boston'): <gurobi.Constr node[Pens,Boston]>,\n",
       " ('Pens', 'New York'): <gurobi.Constr node[Pens,New York]>,\n",
       " ('Pens', 'Seattle'): <gurobi.Constr node[Pens,Seattle]>}"
      ]
     },
     "execution_count": 10,
     "metadata": {},
     "output_type": "execute_result"
    }
   ],
   "source": [
    "# # Flow-conservation constraints\n",
    "c2 = m.addConstrs(\n",
    "   (gp.quicksum(flow[h, i, j] for i, j in arcs) + inflow[h, j] ==\n",
    "     (gp.quicksum(flow[h, j, k] for j, k in arcs)) for h in commodities for j in nodes), \"node\")\n",
    "\n",
    "m.update()\n",
    "c2\n",
    "\n",
    "# Alternate version 01:\n",
    "#m.addConstrs(\n",
    "#    (\n",
    "#        flow.sum(h, \"*\", j) + inflow[h, j] == flow.sum(h, j, \"*\")\n",
    "#        for h in commodities\n",
    "#        for j in nodes\n",
    "#    ),\n",
    "#    \"node\",\n",
    "#)\n",
    "\n",
    "# Alternate version 02:\n",
    "# m.addConstrs(\n",
    "#   (gp.quicksum(flow[h, i, j] for i, j in arcs.select('*', j)) + inflow[h, j] ==\n",
    "#     gp.quicksum(flow[h, j, k] for j, k in arcs.select(j, '*'))\n",
    "#     for h in commodities for j in nodes), \"node\")"
   ]
  },
  {
   "cell_type": "markdown",
   "id": "2d18336a",
   "metadata": {},
   "source": [
    "### Objective Function "
   ]
  },
  {
   "cell_type": "code",
   "execution_count": 12,
   "id": "12746a99",
   "metadata": {},
   "outputs": [],
   "source": [
    "m.setObjective(gp.quicksum(cost[h, i, j]*flow[h, i, j] for h in commodities for i, j in arcs), GRB.MINIMIZE)"
   ]
  },
  {
   "cell_type": "code",
   "execution_count": null,
   "id": "b961bb4a",
   "metadata": {},
   "outputs": [],
   "source": []
  },
  {
   "cell_type": "markdown",
   "id": "347d648d",
   "metadata": {},
   "source": [
    "### Optimal Solution"
   ]
  },
  {
   "cell_type": "code",
   "execution_count": 13,
   "id": "01782aae",
   "metadata": {},
   "outputs": [
    {
     "name": "stdout",
     "output_type": "stream",
     "text": [
      "Gurobi Optimizer version 11.0.1 build v11.0.1rc0 (mac64[x86] - Darwin 19.6.0 19H2026)\n",
      "\n",
      "CPU model: Intel(R) Core(TM) i7-3520M CPU @ 2.90GHz\n",
      "Thread count: 2 physical cores, 4 logical processors, using up to 4 threads\n",
      "\n",
      "Optimize a model with 16 rows, 12 columns and 12 nonzeros\n",
      "Model fingerprint: 0x4d877562\n",
      "Coefficient statistics:\n",
      "  Matrix range     [1e+00, 1e+00]\n",
      "  Objective range  [1e+01, 8e+01]\n",
      "  Bounds range     [0e+00, 0e+00]\n",
      "  RHS range        [1e+01, 1e+02]\n",
      "Presolve time: 0.04s\n",
      "\n",
      "Solved in 0 iterations and 0.04 seconds (0.00 work units)\n",
      "Infeasible model\n"
     ]
    }
   ],
   "source": [
    "# Compute optimal solution\n",
    "m.update()\n",
    "m.optimize()"
   ]
  },
  {
   "cell_type": "code",
   "execution_count": null,
   "id": "2db03e92",
   "metadata": {},
   "outputs": [],
   "source": []
  },
  {
   "cell_type": "code",
   "execution_count": null,
   "id": "80b505c2",
   "metadata": {},
   "outputs": [],
   "source": []
  },
  {
   "cell_type": "markdown",
   "id": "b78b22cc",
   "metadata": {},
   "source": [
    "### Print Solution"
   ]
  },
  {
   "cell_type": "code",
   "execution_count": null,
   "id": "0cccbf39",
   "metadata": {},
   "outputs": [],
   "source": [
    "\n",
    "# Print solution\n",
    "if m.Status == GRB.OPTIMAL:\n",
    "    solution = m.getAttr(\"X\", flow)\n",
    "    for h in commodities:\n",
    "        print(f\"\\nOptimal flows for {h}:\")\n",
    "        for i, j in arcs:\n",
    "            if solution[h, i, j] > 0:\n",
    "                print(f\"{i} -> {j}: {solution[h, i, j]:g}\")"
   ]
  },
  {
   "cell_type": "code",
   "execution_count": null,
   "id": "a6e2cb75",
   "metadata": {},
   "outputs": [],
   "source": []
  }
 ],
 "metadata": {
  "kernelspec": {
   "display_name": "Python 3 (ipykernel)",
   "language": "python",
   "name": "python3"
  },
  "language_info": {
   "codemirror_mode": {
    "name": "ipython",
    "version": 3
   },
   "file_extension": ".py",
   "mimetype": "text/x-python",
   "name": "python",
   "nbconvert_exporter": "python",
   "pygments_lexer": "ipython3",
   "version": "3.12.2"
  }
 },
 "nbformat": 4,
 "nbformat_minor": 5
}
