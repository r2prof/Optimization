{
 "cells": [
  {
   "cell_type": "markdown",
   "id": "dd37c901",
   "metadata": {},
   "source": [
    "### Mathematical Model for Multi-Commodity Flow Problem"
   ]
  },
  {
   "cell_type": "code",
   "execution_count": null,
   "id": "4946fb77",
   "metadata": {},
   "outputs": [],
   "source": [
    "# Solve a multi-commodity flow problem.  Two products ('Pencils' and 'Pens') are produced in 2 cities \n",
    "# ('Detroit' and 'Denver') and must be sent to warehouses in 3 cities ('Boston', 'New York', and 'Seattle') \n",
    "# to satisfy supply/demand ('inflow[h,i]').\n",
    "\n",
    "# Flows on the transportation network must respect arc capacity constraints ('capacity[i,j]'). \n",
    "\n",
    "# The objective is to minimize the sum of the arc transportation costs ('cost[i,j]')."
   ]
  },
  {
   "cell_type": "code",
   "execution_count": null,
   "id": "ebd7906c",
   "metadata": {},
   "outputs": [],
   "source": [
    " # First, import packages\n",
    "import pandas as pd\n",
    "from IPython.display import Image \n",
    "import gurobipy as gp\n",
    "from gurobipy import GRB\n",
    "\n",
    "# Define a gurobipy model for the decision problem\n",
    "m = gp.Model('netflow')"
   ]
  },
  {
   "cell_type": "markdown",
   "id": "9c1fbf48",
   "metadata": {},
   "source": [
    "### Data"
   ]
  },
  {
   "cell_type": "code",
   "execution_count": null,
   "id": "82f91faf",
   "metadata": {},
   "outputs": [],
   "source": [
    "# Base data\n",
    "commodities = [\"Pencils\", \"Pens\"]\n",
    "nodes = [\"Detroit\", \"Denver\", \"Boston\", \"New York\", \"Seattle\"]\n",
    "\n",
    "arcs, capacity = gp.multidict(\n",
    "    {\n",
    "        (\"Detroit\", \"Boston\"): 100,\n",
    "        (\"Detroit\", \"New York\"): 80,\n",
    "        (\"Detroit\", \"Seattle\"): 120,\n",
    "        (\"Denver\", \"Boston\"): 120,\n",
    "        (\"Denver\", \"New York\"): 120,\n",
    "        (\"Denver\", \"Seattle\"): 120,\n",
    "    }\n",
    ")"
   ]
  },
  {
   "cell_type": "code",
   "execution_count": null,
   "id": "27eb9b55",
   "metadata": {},
   "outputs": [],
   "source": [
    "# Cost for triplets commodity-source-destination\n",
    "cost = {\n",
    "    (\"Pencils\", \"Detroit\", \"Boston\"): 10,\n",
    "    (\"Pencils\", \"Detroit\", \"New York\"): 20,\n",
    "    (\"Pencils\", \"Detroit\", \"Seattle\"): 60,\n",
    "    (\"Pencils\", \"Denver\", \"Boston\"): 40,\n",
    "    (\"Pencils\", \"Denver\", \"New York\"): 40,\n",
    "    (\"Pencils\", \"Denver\", \"Seattle\"): 30,\n",
    "    (\"Pens\", \"Detroit\", \"Boston\"): 20,\n",
    "    (\"Pens\", \"Detroit\", \"New York\"): 20,\n",
    "    (\"Pens\", \"Detroit\", \"Seattle\"): 80,\n",
    "    (\"Pens\", \"Denver\", \"Boston\"): 60,\n",
    "    (\"Pens\", \"Denver\", \"New York\"): 70,\n",
    "    (\"Pens\", \"Denver\", \"Seattle\"): 30,\n",
    "}"
   ]
  },
  {
   "cell_type": "code",
   "execution_count": null,
   "id": "a205197d",
   "metadata": {},
   "outputs": [],
   "source": [
    "# Supply (> 0) and demand (< 0) for pairs of commodity-city\n",
    "inflow = {\n",
    "    (\"Pencils\", \"Detroit\"): 50,\n",
    "    (\"Pencils\", \"Denver\"): 60,\n",
    "    (\"Pencils\", \"Boston\"): -50,\n",
    "    (\"Pencils\", \"New York\"): -50,\n",
    "    (\"Pencils\", \"Seattle\"): -10,\n",
    "    (\"Pens\", \"Detroit\"): 60,\n",
    "    (\"Pens\", \"Denver\"): 40,\n",
    "    (\"Pens\", \"Boston\"): -40,\n",
    "    (\"Pens\", \"New York\"): -30,\n",
    "    (\"Pens\", \"Seattle\"): -30,\n",
    "}\n",
    "\n",
    "# Total supply for pencils: Detroit(50) + Denver(60) = 110\n",
    "# Total supply for pens:    Detroit(60) + Denver(40) = 100\n",
    "\n",
    "# Total demand for pencils: Bostoon(50) + New York(50) + Seattle(10) = 110\n",
    "# Total demand for pens:    Bostoon(40) + New York(30) + Seattle(30) = 100"
   ]
  },
  {
   "cell_type": "markdown",
   "id": "89eaf09c",
   "metadata": {},
   "source": [
    "### Variables"
   ]
  },
  {
   "cell_type": "code",
   "execution_count": null,
   "id": "968b969b",
   "metadata": {},
   "outputs": [],
   "source": [
    "# Create variables\n",
    "flow = m.addVars(commodities, arcs, vtype=GRB.CONTINUOUS, name=\"flow\")\n",
    "\n",
    "# Alternate version 01:\n",
    "#flow = m.addVars(commodities, arcs, obj=cost, name=\"flow\")"
   ]
  },
  {
   "cell_type": "markdown",
   "id": "589cad98",
   "metadata": {},
   "source": [
    "### Constraints"
   ]
  },
  {
   "cell_type": "code",
   "execution_count": null,
   "id": "967e0a45",
   "metadata": {},
   "outputs": [],
   "source": [
    "# Arc capacity constraint\n",
    "c1 = m.addConstrs((gp.quicksum(flow[h, i, j] for h in commodities) <= capacity[i, j] for i,j in arcs))\n",
    "\n",
    "\n",
    "# Alternate version 01:\n",
    "#m.addConstrs((flow.sum(\"*\", i, j) <= capacity[i, j] for i, j in arcs), \"cap\")\n",
    "\n",
    "# Alternate version 02:\n",
    "# Equivalent version using Python looping\n",
    "# for i, j in arcs:\n",
    "#   m.addConstr(sum(flow[h, i, j] for h in commodities) <= capacity[i, j],\n",
    "#               \"cap[%s, %s]\" % (i, j))"
   ]
  },
  {
   "cell_type": "code",
   "execution_count": null,
   "id": "51b3da7b",
   "metadata": {},
   "outputs": [],
   "source": [
    "# # Flow-conservation constraints\n",
    "c2 = m.addConstrs(\n",
    "   (gp.quicksum(flow[h, i, j] for i, j in arcs) + inflow[h, j] ==\n",
    "     (gp.quicksum(flow[h, j, k] for j, k in arcs)) for h in commodities for j in nodes), \"node\")\n",
    "\n",
    "m.update()\n",
    "c2\n",
    "\n",
    "# Alternate version 01:\n",
    "#m.addConstrs(\n",
    "#    (\n",
    "#        flow.sum(h, \"*\", j) + inflow[h, j] == flow.sum(h, j, \"*\")\n",
    "#        for h in commodities\n",
    "#        for j in nodes\n",
    "#    ),\n",
    "#    \"node\",\n",
    "#)\n",
    "\n",
    "# Alternate version 02:\n",
    "# m.addConstrs(\n",
    "#   (gp.quicksum(flow[h, i, j] for i, j in arcs.select('*', j)) + inflow[h, j] ==\n",
    "#     gp.quicksum(flow[h, j, k] for j, k in arcs.select(j, '*'))\n",
    "#     for h in commodities for j in nodes), \"node\")"
   ]
  },
  {
   "cell_type": "markdown",
   "id": "2d18336a",
   "metadata": {},
   "source": [
    "### Objective Function "
   ]
  },
  {
   "cell_type": "code",
   "execution_count": null,
   "id": "12746a99",
   "metadata": {},
   "outputs": [],
   "source": []
  },
  {
   "cell_type": "code",
   "execution_count": null,
   "id": "b961bb4a",
   "metadata": {},
   "outputs": [],
   "source": []
  },
  {
   "cell_type": "markdown",
   "id": "347d648d",
   "metadata": {},
   "source": [
    "### Optimal Solution"
   ]
  },
  {
   "cell_type": "code",
   "execution_count": null,
   "id": "01782aae",
   "metadata": {},
   "outputs": [],
   "source": [
    "# Compute optimal solution\n",
    "m.optimize()"
   ]
  },
  {
   "cell_type": "code",
   "execution_count": null,
   "id": "2db03e92",
   "metadata": {},
   "outputs": [],
   "source": []
  },
  {
   "cell_type": "code",
   "execution_count": null,
   "id": "80b505c2",
   "metadata": {},
   "outputs": [],
   "source": []
  },
  {
   "cell_type": "markdown",
   "id": "b78b22cc",
   "metadata": {},
   "source": [
    "### Print Solution"
   ]
  },
  {
   "cell_type": "code",
   "execution_count": null,
   "id": "0cccbf39",
   "metadata": {},
   "outputs": [],
   "source": [
    "\n",
    "# Print solution\n",
    "if m.Status == GRB.OPTIMAL:\n",
    "    solution = m.getAttr(\"X\", flow)\n",
    "    for h in commodities:\n",
    "        print(f\"\\nOptimal flows for {h}:\")\n",
    "        for i, j in arcs:\n",
    "            if solution[h, i, j] > 0:\n",
    "                print(f\"{i} -> {j}: {solution[h, i, j]:g}\")"
   ]
  },
  {
   "cell_type": "code",
   "execution_count": null,
   "id": "a6e2cb75",
   "metadata": {},
   "outputs": [],
   "source": []
  }
 ],
 "metadata": {
  "kernelspec": {
   "display_name": "Python 3 (ipykernel)",
   "language": "python",
   "name": "python3"
  },
  "language_info": {
   "codemirror_mode": {
    "name": "ipython",
    "version": 3
   },
   "file_extension": ".py",
   "mimetype": "text/x-python",
   "name": "python",
   "nbconvert_exporter": "python",
   "pygments_lexer": "ipython3",
   "version": "3.12.3"
  }
 },
 "nbformat": 4,
 "nbformat_minor": 5
}
