{
 "cells": [
  {
   "cell_type": "markdown",
   "id": "0421f850",
   "metadata": {},
   "source": [
    "### Problem"
   ]
  },
  {
   "cell_type": "code",
   "execution_count": 5,
   "id": "4946fb77",
   "metadata": {},
   "outputs": [],
   "source": [
    "# Solve a multi-commodity flow problem.  Two products ('Pencils' and 'Pens') are produced in 2 cities \n",
    "# ('Detroit' and 'Denver') and must be sent to warehouses in 3 cities ('Boston', 'New York', and 'Seattle') \n",
    "# to satisfy supply/demand ('inflow[h,i]').\n",
    "\n",
    "# Flows on the transportation network must respect arc capacity constraints ('capacity[i,j]'). \n",
    "\n",
    "# The objective is to minimize the sum of the arc transportation costs ('cost[i,j]')."
   ]
  },
  {
   "cell_type": "code",
   "execution_count": 1,
   "id": "ebd7906c",
   "metadata": {},
   "outputs": [
    {
     "name": "stdout",
     "output_type": "stream",
     "text": [
      "Set parameter Username\n",
      "Academic license - for non-commercial use only - expires 2025-04-29\n"
     ]
    }
   ],
   "source": [
    "# First, import packages\n",
    "import pandas as pd\n",
    "from IPython.display import Image \n",
    "import gurobipy as gp\n",
    "from gurobipy import GRB\n",
    "\n",
    "# Define a gurobipy model for the decision problem\n",
    "m = gp.Model('netflow')"
   ]
  },
  {
   "cell_type": "markdown",
   "id": "9c1fbf48",
   "metadata": {},
   "source": [
    "### Data"
   ]
  },
  {
   "cell_type": "code",
   "execution_count": 7,
   "id": "82f91faf",
   "metadata": {},
   "outputs": [],
   "source": [
    "# Base data\n",
    "commodities = [\"Pencils\", \"Pens\"]\n",
    "nodes = [\"Detroit\", \"Denver\", \"Boston\", \"New York\", \"Seattle\"]\n",
    "\n",
    "arcs, capacity = gp.multidict(\n",
    "    {\n",
    "        (\"Detroit\", \"Boston\"): 100,\n",
    "        (\"Detroit\", \"New York\"): 80,\n",
    "        (\"Detroit\", \"Seattle\"): 120,\n",
    "        (\"Denver\", \"Boston\"): 120,\n",
    "        (\"Denver\", \"New York\"): 120,\n",
    "        (\"Denver\", \"Seattle\"): 120,\n",
    "    }\n",
    ")"
   ]
  },
  {
   "cell_type": "code",
   "execution_count": 8,
   "id": "27eb9b55",
   "metadata": {},
   "outputs": [],
   "source": [
    "# Cost for triplets commodity-source-destination\n",
    "cost = {\n",
    "    (\"Pencils\", \"Detroit\", \"Boston\"): 10,\n",
    "    (\"Pencils\", \"Detroit\", \"New York\"): 20,\n",
    "    (\"Pencils\", \"Detroit\", \"Seattle\"): 60,\n",
    "    (\"Pencils\", \"Denver\", \"Boston\"): 40,\n",
    "    (\"Pencils\", \"Denver\", \"New York\"): 40,\n",
    "    (\"Pencils\", \"Denver\", \"Seattle\"): 30,\n",
    "    (\"Pens\", \"Detroit\", \"Boston\"): 20,\n",
    "    (\"Pens\", \"Detroit\", \"New York\"): 20,\n",
    "    (\"Pens\", \"Detroit\", \"Seattle\"): 80,\n",
    "    (\"Pens\", \"Denver\", \"Boston\"): 60,\n",
    "    (\"Pens\", \"Denver\", \"New York\"): 70,\n",
    "    (\"Pens\", \"Denver\", \"Seattle\"): 30,\n",
    "}"
   ]
  },
  {
   "cell_type": "code",
   "execution_count": 9,
   "id": "a205197d",
   "metadata": {},
   "outputs": [],
   "source": [
    "# Supply (> 0) and demand (< 0) for pairs of commodity-city\n",
    "inflow = {\n",
    "    (\"Pencils\", \"Detroit\"): 50,\n",
    "    (\"Pencils\", \"Denver\"): 60,\n",
    "    (\"Pencils\", \"Boston\"): -50,\n",
    "    (\"Pencils\", \"New York\"): -50,\n",
    "    (\"Pencils\", \"Seattle\"): -10,\n",
    "    (\"Pens\", \"Detroit\"): 60,\n",
    "    (\"Pens\", \"Denver\"): 40,\n",
    "    (\"Pens\", \"Boston\"): -40,\n",
    "    (\"Pens\", \"New York\"): -30,\n",
    "    (\"Pens\", \"Seattle\"): -30,\n",
    "}"
   ]
  },
  {
   "cell_type": "markdown",
   "id": "89eaf09c",
   "metadata": {},
   "source": [
    "### Variables"
   ]
  },
  {
   "cell_type": "code",
   "execution_count": 10,
   "id": "5ddc5823",
   "metadata": {},
   "outputs": [
    {
     "data": {
      "text/plain": [
       "{('Pencils', 'Detroit'): <gurobi.Constr *Awaiting Model Update*>,\n",
       " ('Pencils', 'Denver'): <gurobi.Constr *Awaiting Model Update*>,\n",
       " ('Pencils', 'Boston'): <gurobi.Constr *Awaiting Model Update*>,\n",
       " ('Pencils', 'New York'): <gurobi.Constr *Awaiting Model Update*>,\n",
       " ('Pencils', 'Seattle'): <gurobi.Constr *Awaiting Model Update*>,\n",
       " ('Pens', 'Detroit'): <gurobi.Constr *Awaiting Model Update*>,\n",
       " ('Pens', 'Denver'): <gurobi.Constr *Awaiting Model Update*>,\n",
       " ('Pens', 'Boston'): <gurobi.Constr *Awaiting Model Update*>,\n",
       " ('Pens', 'New York'): <gurobi.Constr *Awaiting Model Update*>,\n",
       " ('Pens', 'Seattle'): <gurobi.Constr *Awaiting Model Update*>}"
      ]
     },
     "execution_count": 10,
     "metadata": {},
     "output_type": "execute_result"
    }
   ],
   "source": [
    "# Create variables\n",
    "flow = m.addVars(commodities, arcs, obj=cost, name=\"flow\")\n",
    "\n",
    "# Arc-capacity constraints\n",
    "m.addConstrs((flow.sum(\"*\", i, j) <= capacity[i, j] for i, j in arcs), \"cap\")\n",
    "\n",
    "# Equivalent version using Python looping\n",
    "# for i, j in arcs:\n",
    "#   m.addConstr(sum(flow[h, i, j] for h in commodities) <= capacity[i, j],\n",
    "#               \"cap[%s, %s]\" % (i, j))\n",
    "\n",
    "\n",
    "# Flow-conservation constraints\n",
    "m.addConstrs(\n",
    "    (\n",
    "        flow.sum(h, \"*\", j) + inflow[h, j] == flow.sum(h, j, \"*\")\n",
    "        for h in commodities\n",
    "        for j in nodes\n",
    "    ),\n",
    "    \"node\",\n",
    ")\n",
    "\n",
    "# Alternate version:\n",
    "# m.addConstrs(\n",
    "#   (gp.quicksum(flow[h, i, j] for i, j in arcs.select('*', j)) + inflow[h, j] ==\n",
    "#     gp.quicksum(flow[h, j, k] for j, k in arcs.select(j, '*'))\n",
    "#     for h in commodities for j in nodes), \"node\")"
   ]
  },
  {
   "cell_type": "code",
   "execution_count": null,
   "id": "01782aae",
   "metadata": {},
   "outputs": [],
   "source": []
  },
  {
   "cell_type": "code",
   "execution_count": 1,
   "id": "0cccbf39",
   "metadata": {},
   "outputs": [
    {
     "name": "stdout",
     "output_type": "stream",
     "text": [
      "Set parameter Username\n",
      "Academic license - for non-commercial use only - expires 2025-04-29\n",
      "Gurobi Optimizer version 11.0.1 build v11.0.1rc0 (linux64 - \"Linux Mint 21.3\")\n",
      "\n",
      "CPU model: AMD Ryzen 5 5600G with Radeon Graphics, instruction set [SSE2|AVX|AVX2]\n",
      "Thread count: 6 physical cores, 12 logical processors, using up to 12 threads\n",
      "\n",
      "Optimize a model with 16 rows, 12 columns and 36 nonzeros\n",
      "Model fingerprint: 0xc43e5943\n",
      "Coefficient statistics:\n",
      "  Matrix range     [1e+00, 1e+00]\n",
      "  Objective range  [1e+01, 8e+01]\n",
      "  Bounds range     [0e+00, 0e+00]\n",
      "  RHS range        [1e+01, 1e+02]\n",
      "Presolve removed 16 rows and 12 columns\n",
      "Presolve time: 0.00s\n",
      "Presolve: All rows and columns removed\n",
      "Iteration    Objective       Primal Inf.    Dual Inf.      Time\n",
      "       0    5.5000000e+03   0.000000e+00   2.000000e+01      0s\n",
      "Extra simplex iterations after uncrush: 1\n",
      "       1    5.5000000e+03   0.000000e+00   0.000000e+00      0s\n",
      "\n",
      "Solved in 1 iterations and 0.00 seconds (0.00 work units)\n",
      "Optimal objective  5.500000000e+03\n",
      "\n",
      "Optimal flows for Pencils:\n",
      "Detroit -> Boston: 50\n",
      "Denver -> New York: 50\n",
      "Denver -> Seattle: 10\n",
      "\n",
      "Optimal flows for Pens:\n",
      "Detroit -> Boston: 30\n",
      "Detroit -> New York: 30\n",
      "Denver -> Boston: 10\n",
      "Denver -> Seattle: 30\n"
     ]
    }
   ],
   "source": [
    "# Compute optimal solution\n",
    "m.optimize()\n",
    "\n",
    "# Print solution\n",
    "if m.Status == GRB.OPTIMAL:\n",
    "    solution = m.getAttr(\"X\", flow)\n",
    "    for h in commodities:\n",
    "        print(f\"\\nOptimal flows for {h}:\")\n",
    "        for i, j in arcs:\n",
    "            if solution[h, i, j] > 0:\n",
    "                print(f\"{i} -> {j}: {solution[h, i, j]:g}\")"
   ]
  },
  {
   "cell_type": "code",
   "execution_count": null,
   "id": "a6e2cb75",
   "metadata": {},
   "outputs": [],
   "source": []
  }
 ],
 "metadata": {
  "kernelspec": {
   "display_name": "Python 3 (ipykernel)",
   "language": "python",
   "name": "python3"
  },
  "language_info": {
   "codemirror_mode": {
    "name": "ipython",
    "version": 3
   },
   "file_extension": ".py",
   "mimetype": "text/x-python",
   "name": "python",
   "nbconvert_exporter": "python",
   "pygments_lexer": "ipython3",
   "version": "3.12.3"
  }
 },
 "nbformat": 4,
 "nbformat_minor": 5
}
